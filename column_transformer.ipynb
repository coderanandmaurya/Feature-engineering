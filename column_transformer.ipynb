{
  "nbformat": 4,
  "nbformat_minor": 0,
  "metadata": {
    "colab": {
      "name": "column transformer.ipynb",
      "provenance": [],
      "collapsed_sections": [],
      "authorship_tag": "ABX9TyPJj6WXBKLcdF4rUCwCd0Xr",
      "include_colab_link": true
    },
    "kernelspec": {
      "name": "python3",
      "display_name": "Python 3"
    },
    "language_info": {
      "name": "python"
    }
  },
  "cells": [
    {
      "cell_type": "markdown",
      "metadata": {
        "id": "view-in-github",
        "colab_type": "text"
      },
      "source": [
        "<a href=\"https://colab.research.google.com/github/coderanandmaurya/Feature-engineering/blob/main/column_transformer.ipynb\" target=\"_parent\"><img src=\"https://colab.research.google.com/assets/colab-badge.svg\" alt=\"Open In Colab\"/></a>"
      ]
    },
    {
      "cell_type": "code",
      "execution_count": 21,
      "metadata": {
        "id": "rqeYld90WM1Q"
      },
      "outputs": [],
      "source": [
        "import numpy as np\n",
        "import pandas as pd"
      ]
    },
    {
      "cell_type": "code",
      "source": [
        "from sklearn.impute import SimpleImputer\n",
        "from sklearn.preprocessing import OneHotEncoder\n",
        "from sklearn.preprocessing import OrdinalEncoder"
      ],
      "metadata": {
        "id": "YGUYWwn4hNdf"
      },
      "execution_count": 22,
      "outputs": []
    },
    {
      "cell_type": "code",
      "source": [
        "df = pd.read_csv('https://raw.githubusercontent.com/coderanandmaurya/Feature-engineering/main/covid_toy.csv')"
      ],
      "metadata": {
        "id": "L8Vd1Za8hPpH"
      },
      "execution_count": 23,
      "outputs": []
    },
    {
      "cell_type": "code",
      "source": [
        "from sklearn.model_selection import train_test_split\n",
        "X_train,X_test,y_train,y_test = train_test_split(df.drop(columns=['has_covid']),df['has_covid'],test_size=0.2)"
      ],
      "metadata": {
        "id": "FcPmELIIjWLA"
      },
      "execution_count": 24,
      "outputs": []
    },
    {
      "cell_type": "code",
      "source": [
        "X_train"
      ],
      "metadata": {
        "colab": {
          "base_uri": "https://localhost:8080/",
          "height": 424
        },
        "id": "Wci7fI_wja2g",
        "outputId": "bf9e0127-5d3e-49a9-abd2-d96e1213a971"
      },
      "execution_count": 25,
      "outputs": [
        {
          "output_type": "execute_result",
          "data": {
            "text/plain": [
              "    age  gender  fever   cough       city\n",
              "39   50  Female  103.0    Mild    Kolkata\n",
              "13   64    Male  102.0    Mild  Bangalore\n",
              "73   34    Male   98.0  Strong    Kolkata\n",
              "6    14    Male  101.0  Strong  Bangalore\n",
              "63   10    Male  100.0    Mild  Bangalore\n",
              "..  ...     ...    ...     ...        ...\n",
              "2    42    Male  101.0    Mild      Delhi\n",
              "7    20  Female    NaN  Strong     Mumbai\n",
              "88    5  Female  100.0    Mild    Kolkata\n",
              "42   27    Male  100.0    Mild      Delhi\n",
              "43   22  Female   99.0    Mild  Bangalore\n",
              "\n",
              "[80 rows x 5 columns]"
            ],
            "text/html": [
              "\n",
              "  <div id=\"df-c065a5db-b811-485a-851e-b256479a5466\">\n",
              "    <div class=\"colab-df-container\">\n",
              "      <div>\n",
              "<style scoped>\n",
              "    .dataframe tbody tr th:only-of-type {\n",
              "        vertical-align: middle;\n",
              "    }\n",
              "\n",
              "    .dataframe tbody tr th {\n",
              "        vertical-align: top;\n",
              "    }\n",
              "\n",
              "    .dataframe thead th {\n",
              "        text-align: right;\n",
              "    }\n",
              "</style>\n",
              "<table border=\"1\" class=\"dataframe\">\n",
              "  <thead>\n",
              "    <tr style=\"text-align: right;\">\n",
              "      <th></th>\n",
              "      <th>age</th>\n",
              "      <th>gender</th>\n",
              "      <th>fever</th>\n",
              "      <th>cough</th>\n",
              "      <th>city</th>\n",
              "    </tr>\n",
              "  </thead>\n",
              "  <tbody>\n",
              "    <tr>\n",
              "      <th>39</th>\n",
              "      <td>50</td>\n",
              "      <td>Female</td>\n",
              "      <td>103.0</td>\n",
              "      <td>Mild</td>\n",
              "      <td>Kolkata</td>\n",
              "    </tr>\n",
              "    <tr>\n",
              "      <th>13</th>\n",
              "      <td>64</td>\n",
              "      <td>Male</td>\n",
              "      <td>102.0</td>\n",
              "      <td>Mild</td>\n",
              "      <td>Bangalore</td>\n",
              "    </tr>\n",
              "    <tr>\n",
              "      <th>73</th>\n",
              "      <td>34</td>\n",
              "      <td>Male</td>\n",
              "      <td>98.0</td>\n",
              "      <td>Strong</td>\n",
              "      <td>Kolkata</td>\n",
              "    </tr>\n",
              "    <tr>\n",
              "      <th>6</th>\n",
              "      <td>14</td>\n",
              "      <td>Male</td>\n",
              "      <td>101.0</td>\n",
              "      <td>Strong</td>\n",
              "      <td>Bangalore</td>\n",
              "    </tr>\n",
              "    <tr>\n",
              "      <th>63</th>\n",
              "      <td>10</td>\n",
              "      <td>Male</td>\n",
              "      <td>100.0</td>\n",
              "      <td>Mild</td>\n",
              "      <td>Bangalore</td>\n",
              "    </tr>\n",
              "    <tr>\n",
              "      <th>...</th>\n",
              "      <td>...</td>\n",
              "      <td>...</td>\n",
              "      <td>...</td>\n",
              "      <td>...</td>\n",
              "      <td>...</td>\n",
              "    </tr>\n",
              "    <tr>\n",
              "      <th>2</th>\n",
              "      <td>42</td>\n",
              "      <td>Male</td>\n",
              "      <td>101.0</td>\n",
              "      <td>Mild</td>\n",
              "      <td>Delhi</td>\n",
              "    </tr>\n",
              "    <tr>\n",
              "      <th>7</th>\n",
              "      <td>20</td>\n",
              "      <td>Female</td>\n",
              "      <td>NaN</td>\n",
              "      <td>Strong</td>\n",
              "      <td>Mumbai</td>\n",
              "    </tr>\n",
              "    <tr>\n",
              "      <th>88</th>\n",
              "      <td>5</td>\n",
              "      <td>Female</td>\n",
              "      <td>100.0</td>\n",
              "      <td>Mild</td>\n",
              "      <td>Kolkata</td>\n",
              "    </tr>\n",
              "    <tr>\n",
              "      <th>42</th>\n",
              "      <td>27</td>\n",
              "      <td>Male</td>\n",
              "      <td>100.0</td>\n",
              "      <td>Mild</td>\n",
              "      <td>Delhi</td>\n",
              "    </tr>\n",
              "    <tr>\n",
              "      <th>43</th>\n",
              "      <td>22</td>\n",
              "      <td>Female</td>\n",
              "      <td>99.0</td>\n",
              "      <td>Mild</td>\n",
              "      <td>Bangalore</td>\n",
              "    </tr>\n",
              "  </tbody>\n",
              "</table>\n",
              "<p>80 rows × 5 columns</p>\n",
              "</div>\n",
              "      <button class=\"colab-df-convert\" onclick=\"convertToInteractive('df-c065a5db-b811-485a-851e-b256479a5466')\"\n",
              "              title=\"Convert this dataframe to an interactive table.\"\n",
              "              style=\"display:none;\">\n",
              "        \n",
              "  <svg xmlns=\"http://www.w3.org/2000/svg\" height=\"24px\"viewBox=\"0 0 24 24\"\n",
              "       width=\"24px\">\n",
              "    <path d=\"M0 0h24v24H0V0z\" fill=\"none\"/>\n",
              "    <path d=\"M18.56 5.44l.94 2.06.94-2.06 2.06-.94-2.06-.94-.94-2.06-.94 2.06-2.06.94zm-11 1L8.5 8.5l.94-2.06 2.06-.94-2.06-.94L8.5 2.5l-.94 2.06-2.06.94zm10 10l.94 2.06.94-2.06 2.06-.94-2.06-.94-.94-2.06-.94 2.06-2.06.94z\"/><path d=\"M17.41 7.96l-1.37-1.37c-.4-.4-.92-.59-1.43-.59-.52 0-1.04.2-1.43.59L10.3 9.45l-7.72 7.72c-.78.78-.78 2.05 0 2.83L4 21.41c.39.39.9.59 1.41.59.51 0 1.02-.2 1.41-.59l7.78-7.78 2.81-2.81c.8-.78.8-2.07 0-2.86zM5.41 20L4 18.59l7.72-7.72 1.47 1.35L5.41 20z\"/>\n",
              "  </svg>\n",
              "      </button>\n",
              "      \n",
              "  <style>\n",
              "    .colab-df-container {\n",
              "      display:flex;\n",
              "      flex-wrap:wrap;\n",
              "      gap: 12px;\n",
              "    }\n",
              "\n",
              "    .colab-df-convert {\n",
              "      background-color: #E8F0FE;\n",
              "      border: none;\n",
              "      border-radius: 50%;\n",
              "      cursor: pointer;\n",
              "      display: none;\n",
              "      fill: #1967D2;\n",
              "      height: 32px;\n",
              "      padding: 0 0 0 0;\n",
              "      width: 32px;\n",
              "    }\n",
              "\n",
              "    .colab-df-convert:hover {\n",
              "      background-color: #E2EBFA;\n",
              "      box-shadow: 0px 1px 2px rgba(60, 64, 67, 0.3), 0px 1px 3px 1px rgba(60, 64, 67, 0.15);\n",
              "      fill: #174EA6;\n",
              "    }\n",
              "\n",
              "    [theme=dark] .colab-df-convert {\n",
              "      background-color: #3B4455;\n",
              "      fill: #D2E3FC;\n",
              "    }\n",
              "\n",
              "    [theme=dark] .colab-df-convert:hover {\n",
              "      background-color: #434B5C;\n",
              "      box-shadow: 0px 1px 3px 1px rgba(0, 0, 0, 0.15);\n",
              "      filter: drop-shadow(0px 1px 2px rgba(0, 0, 0, 0.3));\n",
              "      fill: #FFFFFF;\n",
              "    }\n",
              "  </style>\n",
              "\n",
              "      <script>\n",
              "        const buttonEl =\n",
              "          document.querySelector('#df-c065a5db-b811-485a-851e-b256479a5466 button.colab-df-convert');\n",
              "        buttonEl.style.display =\n",
              "          google.colab.kernel.accessAllowed ? 'block' : 'none';\n",
              "\n",
              "        async function convertToInteractive(key) {\n",
              "          const element = document.querySelector('#df-c065a5db-b811-485a-851e-b256479a5466');\n",
              "          const dataTable =\n",
              "            await google.colab.kernel.invokeFunction('convertToInteractive',\n",
              "                                                     [key], {});\n",
              "          if (!dataTable) return;\n",
              "\n",
              "          const docLinkHtml = 'Like what you see? Visit the ' +\n",
              "            '<a target=\"_blank\" href=https://colab.research.google.com/notebooks/data_table.ipynb>data table notebook</a>'\n",
              "            + ' to learn more about interactive tables.';\n",
              "          element.innerHTML = '';\n",
              "          dataTable['output_type'] = 'display_data';\n",
              "          await google.colab.output.renderOutput(dataTable, element);\n",
              "          const docLink = document.createElement('div');\n",
              "          docLink.innerHTML = docLinkHtml;\n",
              "          element.appendChild(docLink);\n",
              "        }\n",
              "      </script>\n",
              "    </div>\n",
              "  </div>\n",
              "  "
            ]
          },
          "metadata": {},
          "execution_count": 25
        }
      ]
    },
    {
      "cell_type": "markdown",
      "source": [
        "# **One by One Encoding**"
      ],
      "metadata": {
        "id": "0EQMzTx9jefW"
      }
    },
    {
      "cell_type": "code",
      "source": [
        "# adding simple imputer to fever col\n",
        "si = SimpleImputer(missing_values = np.nan,\n",
        "                        strategy ='mean')\n",
        "X_train_fever = si.fit_transform(X_train[['fever']])\n",
        "\n",
        "# also the test data\n",
        "X_test_fever = si.fit_transform(X_test[['fever']])\n",
        "                                 \n",
        "X_train_fever"
      ],
      "metadata": {
        "colab": {
          "base_uri": "https://localhost:8080/"
        },
        "id": "nkuZyEorjdKa",
        "outputId": "19d1d8c8-7f90-4b75-f30f-fe14d48777a1"
      },
      "execution_count": 26,
      "outputs": [
        {
          "output_type": "execute_result",
          "data": {
            "text/plain": [
              "array([[103. ],\n",
              "       [102. ],\n",
              "       [ 98. ],\n",
              "       [101. ],\n",
              "       [100. ],\n",
              "       [ 99. ],\n",
              "       [ 98. ],\n",
              "       [102. ],\n",
              "       [100. ],\n",
              "       [101. ],\n",
              "       [104. ],\n",
              "       [101. ],\n",
              "       [ 99. ],\n",
              "       [104. ],\n",
              "       [104. ],\n",
              "       [100. ],\n",
              "       [ 98. ],\n",
              "       [100.9],\n",
              "       [101. ],\n",
              "       [ 98. ],\n",
              "       [ 98. ],\n",
              "       [102. ],\n",
              "       [101. ],\n",
              "       [101. ],\n",
              "       [104. ],\n",
              "       [103. ],\n",
              "       [100. ],\n",
              "       [ 98. ],\n",
              "       [100.9],\n",
              "       [101. ],\n",
              "       [101. ],\n",
              "       [ 98. ],\n",
              "       [104. ],\n",
              "       [100. ],\n",
              "       [102. ],\n",
              "       [ 98. ],\n",
              "       [103. ],\n",
              "       [104. ],\n",
              "       [102. ],\n",
              "       [ 99. ],\n",
              "       [ 99. ],\n",
              "       [100.9],\n",
              "       [101. ],\n",
              "       [ 99. ],\n",
              "       [100.9],\n",
              "       [ 99. ],\n",
              "       [ 99. ],\n",
              "       [104. ],\n",
              "       [103. ],\n",
              "       [102. ],\n",
              "       [100. ],\n",
              "       [103. ],\n",
              "       [102. ],\n",
              "       [ 98. ],\n",
              "       [101. ],\n",
              "       [104. ],\n",
              "       [102. ],\n",
              "       [ 98. ],\n",
              "       [104. ],\n",
              "       [ 98. ],\n",
              "       [ 98. ],\n",
              "       [101. ],\n",
              "       [ 98. ],\n",
              "       [100.9],\n",
              "       [103. ],\n",
              "       [101. ],\n",
              "       [100.9],\n",
              "       [104. ],\n",
              "       [100. ],\n",
              "       [102. ],\n",
              "       [100.9],\n",
              "       [100.9],\n",
              "       [104. ],\n",
              "       [100.9],\n",
              "       [104. ],\n",
              "       [101. ],\n",
              "       [100.9],\n",
              "       [100. ],\n",
              "       [100. ],\n",
              "       [ 99. ]])"
            ]
          },
          "metadata": {},
          "execution_count": 26
        }
      ]
    },
    {
      "cell_type": "code",
      "source": [
        "X_train_fever.shape"
      ],
      "metadata": {
        "colab": {
          "base_uri": "https://localhost:8080/"
        },
        "id": "viRzUSOJmK88",
        "outputId": "c9213b76-c538-4791-91d6-d50b361a58c6"
      },
      "execution_count": 27,
      "outputs": [
        {
          "output_type": "execute_result",
          "data": {
            "text/plain": [
              "(80, 1)"
            ]
          },
          "metadata": {},
          "execution_count": 27
        }
      ]
    },
    {
      "cell_type": "code",
      "source": [
        "# Ordinalencoding -> cough\n",
        "oe = OrdinalEncoder(categories=[['Mild','Strong']])\n",
        "X_train_cough = oe.fit_transform(X_train[['cough']])\n",
        "\n",
        "# also the test data\n",
        "X_test_cough = oe.fit_transform(X_test[['cough']])\n",
        "\n",
        "X_train_cough"
      ],
      "metadata": {
        "colab": {
          "base_uri": "https://localhost:8080/"
        },
        "id": "FbkLX0L1jojX",
        "outputId": "b6344a0e-395a-40ad-e5c2-5e3ed3966637"
      },
      "execution_count": 28,
      "outputs": [
        {
          "output_type": "execute_result",
          "data": {
            "text/plain": [
              "array([[0.],\n",
              "       [0.],\n",
              "       [1.],\n",
              "       [1.],\n",
              "       [0.],\n",
              "       [0.],\n",
              "       [0.],\n",
              "       [0.],\n",
              "       [0.],\n",
              "       [0.],\n",
              "       [0.],\n",
              "       [0.],\n",
              "       [0.],\n",
              "       [0.],\n",
              "       [0.],\n",
              "       [1.],\n",
              "       [1.],\n",
              "       [1.],\n",
              "       [0.],\n",
              "       [1.],\n",
              "       [1.],\n",
              "       [1.],\n",
              "       [1.],\n",
              "       [0.],\n",
              "       [0.],\n",
              "       [0.],\n",
              "       [0.],\n",
              "       [1.],\n",
              "       [1.],\n",
              "       [0.],\n",
              "       [0.],\n",
              "       [0.],\n",
              "       [0.],\n",
              "       [1.],\n",
              "       [1.],\n",
              "       [0.],\n",
              "       [0.],\n",
              "       [0.],\n",
              "       [0.],\n",
              "       [1.],\n",
              "       [1.],\n",
              "       [0.],\n",
              "       [1.],\n",
              "       [0.],\n",
              "       [0.],\n",
              "       [0.],\n",
              "       [1.],\n",
              "       [0.],\n",
              "       [1.],\n",
              "       [1.],\n",
              "       [0.],\n",
              "       [0.],\n",
              "       [1.],\n",
              "       [0.],\n",
              "       [0.],\n",
              "       [1.],\n",
              "       [1.],\n",
              "       [1.],\n",
              "       [1.],\n",
              "       [0.],\n",
              "       [0.],\n",
              "       [0.],\n",
              "       [0.],\n",
              "       [1.],\n",
              "       [0.],\n",
              "       [0.],\n",
              "       [0.],\n",
              "       [0.],\n",
              "       [0.],\n",
              "       [0.],\n",
              "       [0.],\n",
              "       [1.],\n",
              "       [0.],\n",
              "       [0.],\n",
              "       [1.],\n",
              "       [0.],\n",
              "       [1.],\n",
              "       [0.],\n",
              "       [0.],\n",
              "       [0.]])"
            ]
          },
          "metadata": {},
          "execution_count": 28
        }
      ]
    },
    {
      "cell_type": "code",
      "source": [
        "X_train_cough.shape"
      ],
      "metadata": {
        "colab": {
          "base_uri": "https://localhost:8080/"
        },
        "id": "KoxLPcjomOzo",
        "outputId": "0f6b5cb9-1828-4858-face-e7873879715f"
      },
      "execution_count": 29,
      "outputs": [
        {
          "output_type": "execute_result",
          "data": {
            "text/plain": [
              "(80, 1)"
            ]
          },
          "metadata": {},
          "execution_count": 29
        }
      ]
    },
    {
      "cell_type": "code",
      "source": [
        "# OneHotEncoding -> gender,city\n",
        "ohe = OneHotEncoder(drop='first',sparse=False)\n",
        "X_train_gender_city = ohe.fit_transform(X_train[['gender','city']])\n",
        "\n",
        "# also the test data\n",
        "X_test_gender_city = ohe.fit_transform(X_test[['gender','city']])\n",
        "\n",
        "X_train_gender_city"
      ],
      "metadata": {
        "colab": {
          "base_uri": "https://localhost:8080/"
        },
        "id": "-S7ZNNudjqFk",
        "outputId": "8520dbed-deb0-4296-cf06-29815754b125"
      },
      "execution_count": 30,
      "outputs": [
        {
          "output_type": "execute_result",
          "data": {
            "text/plain": [
              "array([[0., 0., 1., 0.],\n",
              "       [1., 0., 0., 0.],\n",
              "       [1., 0., 1., 0.],\n",
              "       [1., 0., 0., 0.],\n",
              "       [1., 0., 0., 0.],\n",
              "       [0., 0., 0., 1.],\n",
              "       [1., 0., 1., 0.],\n",
              "       [1., 0., 0., 1.],\n",
              "       [1., 0., 1., 0.],\n",
              "       [1., 1., 0., 0.],\n",
              "       [0., 0., 1., 0.],\n",
              "       [0., 0., 0., 0.],\n",
              "       [1., 1., 0., 0.],\n",
              "       [0., 0., 1., 0.],\n",
              "       [0., 0., 0., 0.],\n",
              "       [0., 0., 1., 0.],\n",
              "       [0., 0., 0., 1.],\n",
              "       [1., 0., 1., 0.],\n",
              "       [0., 1., 0., 0.],\n",
              "       [1., 0., 0., 1.],\n",
              "       [1., 0., 0., 0.],\n",
              "       [0., 1., 0., 0.],\n",
              "       [0., 1., 0., 0.],\n",
              "       [0., 0., 0., 0.],\n",
              "       [1., 0., 0., 1.],\n",
              "       [0., 0., 1., 0.],\n",
              "       [1., 1., 0., 0.],\n",
              "       [0., 1., 0., 0.],\n",
              "       [0., 0., 0., 0.],\n",
              "       [0., 0., 1., 0.],\n",
              "       [0., 1., 0., 0.],\n",
              "       [1., 1., 0., 0.],\n",
              "       [1., 0., 0., 1.],\n",
              "       [0., 0., 1., 0.],\n",
              "       [0., 0., 0., 0.],\n",
              "       [0., 1., 0., 0.],\n",
              "       [0., 0., 1., 0.],\n",
              "       [1., 0., 1., 0.],\n",
              "       [0., 1., 0., 0.],\n",
              "       [0., 1., 0., 0.],\n",
              "       [0., 0., 0., 0.],\n",
              "       [1., 0., 1., 0.],\n",
              "       [0., 0., 1., 0.],\n",
              "       [1., 0., 0., 0.],\n",
              "       [0., 1., 0., 0.],\n",
              "       [0., 0., 0., 1.],\n",
              "       [0., 0., 1., 0.],\n",
              "       [1., 0., 1., 0.],\n",
              "       [1., 0., 1., 0.],\n",
              "       [1., 1., 0., 0.],\n",
              "       [0., 0., 1., 0.],\n",
              "       [1., 0., 1., 0.],\n",
              "       [0., 0., 1., 0.],\n",
              "       [0., 0., 0., 0.],\n",
              "       [0., 0., 0., 1.],\n",
              "       [0., 1., 0., 0.],\n",
              "       [0., 0., 0., 0.],\n",
              "       [0., 0., 1., 0.],\n",
              "       [0., 0., 0., 0.],\n",
              "       [0., 0., 1., 0.],\n",
              "       [1., 0., 0., 0.],\n",
              "       [0., 0., 1., 0.],\n",
              "       [0., 0., 0., 1.],\n",
              "       [0., 0., 0., 1.],\n",
              "       [0., 1., 0., 0.],\n",
              "       [1., 1., 0., 0.],\n",
              "       [0., 0., 0., 0.],\n",
              "       [1., 0., 0., 0.],\n",
              "       [1., 0., 0., 0.],\n",
              "       [0., 0., 0., 0.],\n",
              "       [1., 1., 0., 0.],\n",
              "       [1., 0., 1., 0.],\n",
              "       [1., 0., 0., 0.],\n",
              "       [1., 0., 0., 1.],\n",
              "       [0., 0., 1., 0.],\n",
              "       [1., 1., 0., 0.],\n",
              "       [0., 0., 0., 1.],\n",
              "       [0., 0., 1., 0.],\n",
              "       [1., 1., 0., 0.],\n",
              "       [0., 0., 0., 0.]])"
            ]
          },
          "metadata": {},
          "execution_count": 30
        }
      ]
    },
    {
      "cell_type": "code",
      "source": [
        "X_train_gender_city.shape"
      ],
      "metadata": {
        "colab": {
          "base_uri": "https://localhost:8080/"
        },
        "id": "riNs31rEmRQg",
        "outputId": "65ebf16e-e99c-4820-d2ff-182fbbe425b9"
      },
      "execution_count": 31,
      "outputs": [
        {
          "output_type": "execute_result",
          "data": {
            "text/plain": [
              "(80, 4)"
            ]
          },
          "metadata": {},
          "execution_count": 31
        }
      ]
    },
    {
      "cell_type": "code",
      "source": [
        "# Extracting Age\n",
        "X_train_age = X_train.drop(columns=['gender','fever','cough','city']).values\n",
        "\n",
        "# also the test data\n",
        "X_test_age = X_test.drop(columns=['gender','fever','cough','city']).values\n",
        "\n",
        "X_train_age"
      ],
      "metadata": {
        "colab": {
          "base_uri": "https://localhost:8080/"
        },
        "id": "_XhPXMs6jrIu",
        "outputId": "10dc7fac-16d6-4762-b1f6-b8d421096206"
      },
      "execution_count": 32,
      "outputs": [
        {
          "output_type": "execute_result",
          "data": {
            "text/plain": [
              "array([[50],\n",
              "       [64],\n",
              "       [34],\n",
              "       [14],\n",
              "       [10],\n",
              "       [14],\n",
              "       [24],\n",
              "       [74],\n",
              "       [55],\n",
              "       [19],\n",
              "       [ 6],\n",
              "       [20],\n",
              "       [65],\n",
              "       [17],\n",
              "       [18],\n",
              "       [13],\n",
              "       [81],\n",
              "       [79],\n",
              "       [49],\n",
              "       [23],\n",
              "       [12],\n",
              "       [33],\n",
              "       [34],\n",
              "       [38],\n",
              "       [44],\n",
              "       [48],\n",
              "       [27],\n",
              "       [40],\n",
              "       [42],\n",
              "       [83],\n",
              "       [64],\n",
              "       [83],\n",
              "       [42],\n",
              "       [11],\n",
              "       [82],\n",
              "       [80],\n",
              "       [69],\n",
              "       [51],\n",
              "       [49],\n",
              "       [59],\n",
              "       [49],\n",
              "       [82],\n",
              "       [51],\n",
              "       [72],\n",
              "       [75],\n",
              "       [60],\n",
              "       [25],\n",
              "       [16],\n",
              "       [70],\n",
              "       [20],\n",
              "       [19],\n",
              "       [60],\n",
              "       [82],\n",
              "       [64],\n",
              "       [19],\n",
              "       [34],\n",
              "       [24],\n",
              "       [10],\n",
              "       [56],\n",
              "       [26],\n",
              "       [73],\n",
              "       [ 8],\n",
              "       [65],\n",
              "       [34],\n",
              "       [73],\n",
              "       [15],\n",
              "       [84],\n",
              "       [25],\n",
              "       [11],\n",
              "       [69],\n",
              "       [38],\n",
              "       [71],\n",
              "       [51],\n",
              "       [23],\n",
              "       [54],\n",
              "       [42],\n",
              "       [20],\n",
              "       [ 5],\n",
              "       [27],\n",
              "       [22]])"
            ]
          },
          "metadata": {},
          "execution_count": 32
        }
      ]
    },
    {
      "cell_type": "code",
      "source": [
        "X_train_age.shape"
      ],
      "metadata": {
        "colab": {
          "base_uri": "https://localhost:8080/"
        },
        "id": "SbE_4NJZmUQ4",
        "outputId": "99c6c446-f924-4a40-ffb3-6c3c70171719"
      },
      "execution_count": 33,
      "outputs": [
        {
          "output_type": "execute_result",
          "data": {
            "text/plain": [
              "(80, 1)"
            ]
          },
          "metadata": {},
          "execution_count": 33
        }
      ]
    },
    {
      "cell_type": "code",
      "source": [
        "X_train_transformed = np.concatenate((X_train_age,X_train_fever,X_train_gender_city,X_train_cough),axis=1)\n",
        "# also the test data\n",
        "X_test_transformed = np.concatenate((X_test_age,X_test_fever,X_test_gender_city,X_test_cough),axis=1)\n",
        "\n",
        "X_train_transformed"
      ],
      "metadata": {
        "colab": {
          "base_uri": "https://localhost:8080/"
        },
        "id": "lDjO2SAKjvkJ",
        "outputId": "2af7ccb2-4373-40e6-d70d-6df3980baeb1"
      },
      "execution_count": 34,
      "outputs": [
        {
          "output_type": "execute_result",
          "data": {
            "text/plain": [
              "array([[ 50. , 103. ,   0. ,   0. ,   1. ,   0. ,   0. ],\n",
              "       [ 64. , 102. ,   1. ,   0. ,   0. ,   0. ,   0. ],\n",
              "       [ 34. ,  98. ,   1. ,   0. ,   1. ,   0. ,   1. ],\n",
              "       [ 14. , 101. ,   1. ,   0. ,   0. ,   0. ,   1. ],\n",
              "       [ 10. , 100. ,   1. ,   0. ,   0. ,   0. ,   0. ],\n",
              "       [ 14. ,  99. ,   0. ,   0. ,   0. ,   1. ,   0. ],\n",
              "       [ 24. ,  98. ,   1. ,   0. ,   1. ,   0. ,   0. ],\n",
              "       [ 74. , 102. ,   1. ,   0. ,   0. ,   1. ,   0. ],\n",
              "       [ 55. , 100. ,   1. ,   0. ,   1. ,   0. ,   0. ],\n",
              "       [ 19. , 101. ,   1. ,   1. ,   0. ,   0. ,   0. ],\n",
              "       [  6. , 104. ,   0. ,   0. ,   1. ,   0. ,   0. ],\n",
              "       [ 20. , 101. ,   0. ,   0. ,   0. ,   0. ,   0. ],\n",
              "       [ 65. ,  99. ,   1. ,   1. ,   0. ,   0. ,   0. ],\n",
              "       [ 17. , 104. ,   0. ,   0. ,   1. ,   0. ,   0. ],\n",
              "       [ 18. , 104. ,   0. ,   0. ,   0. ,   0. ,   0. ],\n",
              "       [ 13. , 100. ,   0. ,   0. ,   1. ,   0. ,   1. ],\n",
              "       [ 81. ,  98. ,   0. ,   0. ,   0. ,   1. ,   1. ],\n",
              "       [ 79. , 100.9,   1. ,   0. ,   1. ,   0. ,   1. ],\n",
              "       [ 49. , 101. ,   0. ,   1. ,   0. ,   0. ,   0. ],\n",
              "       [ 23. ,  98. ,   1. ,   0. ,   0. ,   1. ,   1. ],\n",
              "       [ 12. ,  98. ,   1. ,   0. ,   0. ,   0. ,   1. ],\n",
              "       [ 33. , 102. ,   0. ,   1. ,   0. ,   0. ,   1. ],\n",
              "       [ 34. , 101. ,   0. ,   1. ,   0. ,   0. ,   1. ],\n",
              "       [ 38. , 101. ,   0. ,   0. ,   0. ,   0. ,   0. ],\n",
              "       [ 44. , 104. ,   1. ,   0. ,   0. ,   1. ,   0. ],\n",
              "       [ 48. , 103. ,   0. ,   0. ,   1. ,   0. ,   0. ],\n",
              "       [ 27. , 100. ,   1. ,   1. ,   0. ,   0. ,   0. ],\n",
              "       [ 40. ,  98. ,   0. ,   1. ,   0. ,   0. ,   1. ],\n",
              "       [ 42. , 100.9,   0. ,   0. ,   0. ,   0. ,   1. ],\n",
              "       [ 83. , 101. ,   0. ,   0. ,   1. ,   0. ,   0. ],\n",
              "       [ 64. , 101. ,   0. ,   1. ,   0. ,   0. ,   0. ],\n",
              "       [ 83. ,  98. ,   1. ,   1. ,   0. ,   0. ,   0. ],\n",
              "       [ 42. , 104. ,   1. ,   0. ,   0. ,   1. ,   0. ],\n",
              "       [ 11. , 100. ,   0. ,   0. ,   1. ,   0. ,   1. ],\n",
              "       [ 82. , 102. ,   0. ,   0. ,   0. ,   0. ,   1. ],\n",
              "       [ 80. ,  98. ,   0. ,   1. ,   0. ,   0. ,   0. ],\n",
              "       [ 69. , 103. ,   0. ,   0. ,   1. ,   0. ,   0. ],\n",
              "       [ 51. , 104. ,   1. ,   0. ,   1. ,   0. ,   0. ],\n",
              "       [ 49. , 102. ,   0. ,   1. ,   0. ,   0. ,   0. ],\n",
              "       [ 59. ,  99. ,   0. ,   1. ,   0. ,   0. ,   1. ],\n",
              "       [ 49. ,  99. ,   0. ,   0. ,   0. ,   0. ,   1. ],\n",
              "       [ 82. , 100.9,   1. ,   0. ,   1. ,   0. ,   0. ],\n",
              "       [ 51. , 101. ,   0. ,   0. ,   1. ,   0. ,   1. ],\n",
              "       [ 72. ,  99. ,   1. ,   0. ,   0. ,   0. ,   0. ],\n",
              "       [ 75. , 100.9,   0. ,   1. ,   0. ,   0. ,   0. ],\n",
              "       [ 60. ,  99. ,   0. ,   0. ,   0. ,   1. ,   0. ],\n",
              "       [ 25. ,  99. ,   0. ,   0. ,   1. ,   0. ,   1. ],\n",
              "       [ 16. , 104. ,   1. ,   0. ,   1. ,   0. ,   0. ],\n",
              "       [ 70. , 103. ,   1. ,   0. ,   1. ,   0. ,   1. ],\n",
              "       [ 20. , 102. ,   1. ,   1. ,   0. ,   0. ,   1. ],\n",
              "       [ 19. , 100. ,   0. ,   0. ,   1. ,   0. ,   0. ],\n",
              "       [ 60. , 103. ,   1. ,   0. ,   1. ,   0. ,   0. ],\n",
              "       [ 82. , 102. ,   0. ,   0. ,   1. ,   0. ,   1. ],\n",
              "       [ 64. ,  98. ,   0. ,   0. ,   0. ,   0. ,   0. ],\n",
              "       [ 19. , 101. ,   0. ,   0. ,   0. ,   1. ,   0. ],\n",
              "       [ 34. , 104. ,   0. ,   1. ,   0. ,   0. ,   1. ],\n",
              "       [ 24. , 102. ,   0. ,   0. ,   0. ,   0. ,   1. ],\n",
              "       [ 10. ,  98. ,   0. ,   0. ,   1. ,   0. ,   1. ],\n",
              "       [ 56. , 104. ,   0. ,   0. ,   0. ,   0. ,   1. ],\n",
              "       [ 26. ,  98. ,   0. ,   0. ,   1. ,   0. ,   0. ],\n",
              "       [ 73. ,  98. ,   1. ,   0. ,   0. ,   0. ,   0. ],\n",
              "       [  8. , 101. ,   0. ,   0. ,   1. ,   0. ,   0. ],\n",
              "       [ 65. ,  98. ,   0. ,   0. ,   0. ,   1. ,   0. ],\n",
              "       [ 34. , 100.9,   0. ,   0. ,   0. ,   1. ,   1. ],\n",
              "       [ 73. , 103. ,   0. ,   1. ,   0. ,   0. ,   0. ],\n",
              "       [ 15. , 101. ,   1. ,   1. ,   0. ,   0. ,   0. ],\n",
              "       [ 84. , 100.9,   0. ,   0. ,   0. ,   0. ,   0. ],\n",
              "       [ 25. , 104. ,   1. ,   0. ,   0. ,   0. ,   0. ],\n",
              "       [ 11. , 100. ,   1. ,   0. ,   0. ,   0. ,   0. ],\n",
              "       [ 69. , 102. ,   0. ,   0. ,   0. ,   0. ,   0. ],\n",
              "       [ 38. , 100.9,   1. ,   1. ,   0. ,   0. ,   0. ],\n",
              "       [ 71. , 100.9,   1. ,   0. ,   1. ,   0. ,   1. ],\n",
              "       [ 51. , 104. ,   1. ,   0. ,   0. ,   0. ,   0. ],\n",
              "       [ 23. , 100.9,   1. ,   0. ,   0. ,   1. ,   0. ],\n",
              "       [ 54. , 104. ,   0. ,   0. ,   1. ,   0. ,   1. ],\n",
              "       [ 42. , 101. ,   1. ,   1. ,   0. ,   0. ,   0. ],\n",
              "       [ 20. , 100.9,   0. ,   0. ,   0. ,   1. ,   1. ],\n",
              "       [  5. , 100. ,   0. ,   0. ,   1. ,   0. ,   0. ],\n",
              "       [ 27. , 100. ,   1. ,   1. ,   0. ,   0. ,   0. ],\n",
              "       [ 22. ,  99. ,   0. ,   0. ,   0. ,   0. ,   0. ]])"
            ]
          },
          "metadata": {},
          "execution_count": 34
        }
      ]
    },
    {
      "cell_type": "code",
      "source": [
        "X_train_transformed.shape"
      ],
      "metadata": {
        "colab": {
          "base_uri": "https://localhost:8080/"
        },
        "id": "cL20dOe5mX-I",
        "outputId": "d51f759e-b6e1-448f-c571-26c06f8e1587"
      },
      "execution_count": 35,
      "outputs": [
        {
          "output_type": "execute_result",
          "data": {
            "text/plain": [
              "(80, 7)"
            ]
          },
          "metadata": {},
          "execution_count": 35
        }
      ]
    },
    {
      "cell_type": "markdown",
      "source": [
        "# **Using Transformer**"
      ],
      "metadata": {
        "id": "adBuDcWejyPF"
      }
    },
    {
      "cell_type": "code",
      "source": [
        "from sklearn.compose import ColumnTransformer"
      ],
      "metadata": {
        "id": "v3cWc4awjxd-"
      },
      "execution_count": 36,
      "outputs": []
    },
    {
      "cell_type": "code",
      "source": [
        "transformer = ColumnTransformer(transformers=[\n",
        "    ('tnf1',SimpleImputer(missing_values = np.nan,strategy ='mean'),['fever']),\n",
        "    ('tnf2',OrdinalEncoder(categories=[['Mild','Strong']]),['cough']),\n",
        "    ('tnf3',OneHotEncoder(sparse=False,drop='first'),['gender','city'])\n",
        "],remainder='passthrough')"
      ],
      "metadata": {
        "id": "lrtm3pgmj3KE"
      },
      "execution_count": 37,
      "outputs": []
    },
    {
      "cell_type": "code",
      "source": [
        "transformer.fit_transform(X_train)"
      ],
      "metadata": {
        "colab": {
          "base_uri": "https://localhost:8080/"
        },
        "id": "TYyubaYMj5OT",
        "outputId": "af4f6ed8-949b-4d49-dd08-fec3632e7525"
      },
      "execution_count": 38,
      "outputs": [
        {
          "output_type": "execute_result",
          "data": {
            "text/plain": [
              "array([[103. ,   0. ,   0. ,   0. ,   1. ,   0. ,  50. ],\n",
              "       [102. ,   0. ,   1. ,   0. ,   0. ,   0. ,  64. ],\n",
              "       [ 98. ,   1. ,   1. ,   0. ,   1. ,   0. ,  34. ],\n",
              "       [101. ,   1. ,   1. ,   0. ,   0. ,   0. ,  14. ],\n",
              "       [100. ,   0. ,   1. ,   0. ,   0. ,   0. ,  10. ],\n",
              "       [ 99. ,   0. ,   0. ,   0. ,   0. ,   1. ,  14. ],\n",
              "       [ 98. ,   0. ,   1. ,   0. ,   1. ,   0. ,  24. ],\n",
              "       [102. ,   0. ,   1. ,   0. ,   0. ,   1. ,  74. ],\n",
              "       [100. ,   0. ,   1. ,   0. ,   1. ,   0. ,  55. ],\n",
              "       [101. ,   0. ,   1. ,   1. ,   0. ,   0. ,  19. ],\n",
              "       [104. ,   0. ,   0. ,   0. ,   1. ,   0. ,   6. ],\n",
              "       [101. ,   0. ,   0. ,   0. ,   0. ,   0. ,  20. ],\n",
              "       [ 99. ,   0. ,   1. ,   1. ,   0. ,   0. ,  65. ],\n",
              "       [104. ,   0. ,   0. ,   0. ,   1. ,   0. ,  17. ],\n",
              "       [104. ,   0. ,   0. ,   0. ,   0. ,   0. ,  18. ],\n",
              "       [100. ,   1. ,   0. ,   0. ,   1. ,   0. ,  13. ],\n",
              "       [ 98. ,   1. ,   0. ,   0. ,   0. ,   1. ,  81. ],\n",
              "       [100.9,   1. ,   1. ,   0. ,   1. ,   0. ,  79. ],\n",
              "       [101. ,   0. ,   0. ,   1. ,   0. ,   0. ,  49. ],\n",
              "       [ 98. ,   1. ,   1. ,   0. ,   0. ,   1. ,  23. ],\n",
              "       [ 98. ,   1. ,   1. ,   0. ,   0. ,   0. ,  12. ],\n",
              "       [102. ,   1. ,   0. ,   1. ,   0. ,   0. ,  33. ],\n",
              "       [101. ,   1. ,   0. ,   1. ,   0. ,   0. ,  34. ],\n",
              "       [101. ,   0. ,   0. ,   0. ,   0. ,   0. ,  38. ],\n",
              "       [104. ,   0. ,   1. ,   0. ,   0. ,   1. ,  44. ],\n",
              "       [103. ,   0. ,   0. ,   0. ,   1. ,   0. ,  48. ],\n",
              "       [100. ,   0. ,   1. ,   1. ,   0. ,   0. ,  27. ],\n",
              "       [ 98. ,   1. ,   0. ,   1. ,   0. ,   0. ,  40. ],\n",
              "       [100.9,   1. ,   0. ,   0. ,   0. ,   0. ,  42. ],\n",
              "       [101. ,   0. ,   0. ,   0. ,   1. ,   0. ,  83. ],\n",
              "       [101. ,   0. ,   0. ,   1. ,   0. ,   0. ,  64. ],\n",
              "       [ 98. ,   0. ,   1. ,   1. ,   0. ,   0. ,  83. ],\n",
              "       [104. ,   0. ,   1. ,   0. ,   0. ,   1. ,  42. ],\n",
              "       [100. ,   1. ,   0. ,   0. ,   1. ,   0. ,  11. ],\n",
              "       [102. ,   1. ,   0. ,   0. ,   0. ,   0. ,  82. ],\n",
              "       [ 98. ,   0. ,   0. ,   1. ,   0. ,   0. ,  80. ],\n",
              "       [103. ,   0. ,   0. ,   0. ,   1. ,   0. ,  69. ],\n",
              "       [104. ,   0. ,   1. ,   0. ,   1. ,   0. ,  51. ],\n",
              "       [102. ,   0. ,   0. ,   1. ,   0. ,   0. ,  49. ],\n",
              "       [ 99. ,   1. ,   0. ,   1. ,   0. ,   0. ,  59. ],\n",
              "       [ 99. ,   1. ,   0. ,   0. ,   0. ,   0. ,  49. ],\n",
              "       [100.9,   0. ,   1. ,   0. ,   1. ,   0. ,  82. ],\n",
              "       [101. ,   1. ,   0. ,   0. ,   1. ,   0. ,  51. ],\n",
              "       [ 99. ,   0. ,   1. ,   0. ,   0. ,   0. ,  72. ],\n",
              "       [100.9,   0. ,   0. ,   1. ,   0. ,   0. ,  75. ],\n",
              "       [ 99. ,   0. ,   0. ,   0. ,   0. ,   1. ,  60. ],\n",
              "       [ 99. ,   1. ,   0. ,   0. ,   1. ,   0. ,  25. ],\n",
              "       [104. ,   0. ,   1. ,   0. ,   1. ,   0. ,  16. ],\n",
              "       [103. ,   1. ,   1. ,   0. ,   1. ,   0. ,  70. ],\n",
              "       [102. ,   1. ,   1. ,   1. ,   0. ,   0. ,  20. ],\n",
              "       [100. ,   0. ,   0. ,   0. ,   1. ,   0. ,  19. ],\n",
              "       [103. ,   0. ,   1. ,   0. ,   1. ,   0. ,  60. ],\n",
              "       [102. ,   1. ,   0. ,   0. ,   1. ,   0. ,  82. ],\n",
              "       [ 98. ,   0. ,   0. ,   0. ,   0. ,   0. ,  64. ],\n",
              "       [101. ,   0. ,   0. ,   0. ,   0. ,   1. ,  19. ],\n",
              "       [104. ,   1. ,   0. ,   1. ,   0. ,   0. ,  34. ],\n",
              "       [102. ,   1. ,   0. ,   0. ,   0. ,   0. ,  24. ],\n",
              "       [ 98. ,   1. ,   0. ,   0. ,   1. ,   0. ,  10. ],\n",
              "       [104. ,   1. ,   0. ,   0. ,   0. ,   0. ,  56. ],\n",
              "       [ 98. ,   0. ,   0. ,   0. ,   1. ,   0. ,  26. ],\n",
              "       [ 98. ,   0. ,   1. ,   0. ,   0. ,   0. ,  73. ],\n",
              "       [101. ,   0. ,   0. ,   0. ,   1. ,   0. ,   8. ],\n",
              "       [ 98. ,   0. ,   0. ,   0. ,   0. ,   1. ,  65. ],\n",
              "       [100.9,   1. ,   0. ,   0. ,   0. ,   1. ,  34. ],\n",
              "       [103. ,   0. ,   0. ,   1. ,   0. ,   0. ,  73. ],\n",
              "       [101. ,   0. ,   1. ,   1. ,   0. ,   0. ,  15. ],\n",
              "       [100.9,   0. ,   0. ,   0. ,   0. ,   0. ,  84. ],\n",
              "       [104. ,   0. ,   1. ,   0. ,   0. ,   0. ,  25. ],\n",
              "       [100. ,   0. ,   1. ,   0. ,   0. ,   0. ,  11. ],\n",
              "       [102. ,   0. ,   0. ,   0. ,   0. ,   0. ,  69. ],\n",
              "       [100.9,   0. ,   1. ,   1. ,   0. ,   0. ,  38. ],\n",
              "       [100.9,   1. ,   1. ,   0. ,   1. ,   0. ,  71. ],\n",
              "       [104. ,   0. ,   1. ,   0. ,   0. ,   0. ,  51. ],\n",
              "       [100.9,   0. ,   1. ,   0. ,   0. ,   1. ,  23. ],\n",
              "       [104. ,   1. ,   0. ,   0. ,   1. ,   0. ,  54. ],\n",
              "       [101. ,   0. ,   1. ,   1. ,   0. ,   0. ,  42. ],\n",
              "       [100.9,   1. ,   0. ,   0. ,   0. ,   1. ,  20. ],\n",
              "       [100. ,   0. ,   0. ,   0. ,   1. ,   0. ,   5. ],\n",
              "       [100. ,   0. ,   1. ,   1. ,   0. ,   0. ,  27. ],\n",
              "       [ 99. ,   0. ,   0. ,   0. ,   0. ,   0. ,  22. ]])"
            ]
          },
          "metadata": {},
          "execution_count": 38
        }
      ]
    },
    {
      "cell_type": "code",
      "source": [
        "transformer.transform(X_test).shape"
      ],
      "metadata": {
        "colab": {
          "base_uri": "https://localhost:8080/"
        },
        "id": "u5Zxn-Foj9FU",
        "outputId": "1b49a6d5-f89e-44a6-8126-05fdb295486c"
      },
      "execution_count": 39,
      "outputs": [
        {
          "output_type": "execute_result",
          "data": {
            "text/plain": [
              "(20, 7)"
            ]
          },
          "metadata": {},
          "execution_count": 39
        }
      ]
    }
  ]
}