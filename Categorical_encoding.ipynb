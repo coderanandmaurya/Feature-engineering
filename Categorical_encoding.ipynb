{
  "nbformat": 4,
  "nbformat_minor": 0,
  "metadata": {
    "colab": {
      "name": "Categorical encoding.ipynb",
      "provenance": [],
      "authorship_tag": "ABX9TyMotxHN/bmrSFYu0py+uuQS",
      "include_colab_link": true
    },
    "kernelspec": {
      "name": "python3",
      "display_name": "Python 3"
    },
    "language_info": {
      "name": "python"
    }
  },
  "cells": [
    {
      "cell_type": "markdown",
      "metadata": {
        "id": "view-in-github",
        "colab_type": "text"
      },
      "source": [
        "<a href=\"https://colab.research.google.com/github/coderanandmaurya/Feature-engineering/blob/main/Categorical_encoding.ipynb\" target=\"_parent\"><img src=\"https://colab.research.google.com/assets/colab-badge.svg\" alt=\"Open In Colab\"/></a>"
      ]
    },
    {
      "cell_type": "markdown",
      "source": [
        "# **Categorical Data encoding**\n",
        "data:\n",
        "- numerical(1,2,3,)\n",
        "- categorical data:\n",
        "  - nomial data: ( no relation betwwen them like state, all are equal)\n",
        "  - ordinal data: (rank, order, review)\n",
        "\n",
        "categorical data is mostly in string but ml used number so we encode categorical data: \n",
        "- ordinal encoder\n",
        "- label encoding\n",
        "- one hot encoder\n",
        "\n"
      ],
      "metadata": {
        "id": "nBudQJQiFlhC"
      }
    },
    {
      "cell_type": "markdown",
      "source": [
        "# Ordinal encoding:\n",
        "used to encode input col \n",
        "- label encoder used in target col"
      ],
      "metadata": {
        "id": "WwV56pxMGlGb"
      }
    },
    {
      "cell_type": "markdown",
      "source": [
        "- if data is nominal use one hot encoding\n",
        "- if data is ordered use ordinal encoder"
      ],
      "metadata": {
        "id": "iqmPPvQOHJf3"
      }
    },
    {
      "cell_type": "code",
      "source": [
        "import numpy as np\n",
        "import pandas as pd"
      ],
      "metadata": {
        "id": "HYSVs0KJHIuZ"
      },
      "execution_count": 1,
      "outputs": []
    },
    {
      "cell_type": "code",
      "execution_count": 2,
      "metadata": {
        "id": "_5tuFxhqEz05"
      },
      "outputs": [],
      "source": [
        "url=\"https://raw.githubusercontent.com/coderanandmaurya/Feature-engineering/main/customer.csv\"\n",
        "df = pd.read_csv(url)"
      ]
    },
    {
      "cell_type": "code",
      "source": [
        "df.head()"
      ],
      "metadata": {
        "colab": {
          "base_uri": "https://localhost:8080/",
          "height": 206
        },
        "id": "KZrgsoLIIUQH",
        "outputId": "d7f08244-c6e9-4200-b30d-a16f43036e52"
      },
      "execution_count": 3,
      "outputs": [
        {
          "output_type": "execute_result",
          "data": {
            "text/plain": [
              "   age  gender   review education purchased\n",
              "0   30  Female  Average    School        No\n",
              "1   68  Female     Poor        UG        No\n",
              "2   70  Female     Good        PG        No\n",
              "3   72  Female     Good        PG        No\n",
              "4   16  Female  Average        UG        No"
            ],
            "text/html": [
              "\n",
              "  <div id=\"df-9665c2a2-109c-4119-915c-904d7544eb3e\">\n",
              "    <div class=\"colab-df-container\">\n",
              "      <div>\n",
              "<style scoped>\n",
              "    .dataframe tbody tr th:only-of-type {\n",
              "        vertical-align: middle;\n",
              "    }\n",
              "\n",
              "    .dataframe tbody tr th {\n",
              "        vertical-align: top;\n",
              "    }\n",
              "\n",
              "    .dataframe thead th {\n",
              "        text-align: right;\n",
              "    }\n",
              "</style>\n",
              "<table border=\"1\" class=\"dataframe\">\n",
              "  <thead>\n",
              "    <tr style=\"text-align: right;\">\n",
              "      <th></th>\n",
              "      <th>age</th>\n",
              "      <th>gender</th>\n",
              "      <th>review</th>\n",
              "      <th>education</th>\n",
              "      <th>purchased</th>\n",
              "    </tr>\n",
              "  </thead>\n",
              "  <tbody>\n",
              "    <tr>\n",
              "      <th>0</th>\n",
              "      <td>30</td>\n",
              "      <td>Female</td>\n",
              "      <td>Average</td>\n",
              "      <td>School</td>\n",
              "      <td>No</td>\n",
              "    </tr>\n",
              "    <tr>\n",
              "      <th>1</th>\n",
              "      <td>68</td>\n",
              "      <td>Female</td>\n",
              "      <td>Poor</td>\n",
              "      <td>UG</td>\n",
              "      <td>No</td>\n",
              "    </tr>\n",
              "    <tr>\n",
              "      <th>2</th>\n",
              "      <td>70</td>\n",
              "      <td>Female</td>\n",
              "      <td>Good</td>\n",
              "      <td>PG</td>\n",
              "      <td>No</td>\n",
              "    </tr>\n",
              "    <tr>\n",
              "      <th>3</th>\n",
              "      <td>72</td>\n",
              "      <td>Female</td>\n",
              "      <td>Good</td>\n",
              "      <td>PG</td>\n",
              "      <td>No</td>\n",
              "    </tr>\n",
              "    <tr>\n",
              "      <th>4</th>\n",
              "      <td>16</td>\n",
              "      <td>Female</td>\n",
              "      <td>Average</td>\n",
              "      <td>UG</td>\n",
              "      <td>No</td>\n",
              "    </tr>\n",
              "  </tbody>\n",
              "</table>\n",
              "</div>\n",
              "      <button class=\"colab-df-convert\" onclick=\"convertToInteractive('df-9665c2a2-109c-4119-915c-904d7544eb3e')\"\n",
              "              title=\"Convert this dataframe to an interactive table.\"\n",
              "              style=\"display:none;\">\n",
              "        \n",
              "  <svg xmlns=\"http://www.w3.org/2000/svg\" height=\"24px\"viewBox=\"0 0 24 24\"\n",
              "       width=\"24px\">\n",
              "    <path d=\"M0 0h24v24H0V0z\" fill=\"none\"/>\n",
              "    <path d=\"M18.56 5.44l.94 2.06.94-2.06 2.06-.94-2.06-.94-.94-2.06-.94 2.06-2.06.94zm-11 1L8.5 8.5l.94-2.06 2.06-.94-2.06-.94L8.5 2.5l-.94 2.06-2.06.94zm10 10l.94 2.06.94-2.06 2.06-.94-2.06-.94-.94-2.06-.94 2.06-2.06.94z\"/><path d=\"M17.41 7.96l-1.37-1.37c-.4-.4-.92-.59-1.43-.59-.52 0-1.04.2-1.43.59L10.3 9.45l-7.72 7.72c-.78.78-.78 2.05 0 2.83L4 21.41c.39.39.9.59 1.41.59.51 0 1.02-.2 1.41-.59l7.78-7.78 2.81-2.81c.8-.78.8-2.07 0-2.86zM5.41 20L4 18.59l7.72-7.72 1.47 1.35L5.41 20z\"/>\n",
              "  </svg>\n",
              "      </button>\n",
              "      \n",
              "  <style>\n",
              "    .colab-df-container {\n",
              "      display:flex;\n",
              "      flex-wrap:wrap;\n",
              "      gap: 12px;\n",
              "    }\n",
              "\n",
              "    .colab-df-convert {\n",
              "      background-color: #E8F0FE;\n",
              "      border: none;\n",
              "      border-radius: 50%;\n",
              "      cursor: pointer;\n",
              "      display: none;\n",
              "      fill: #1967D2;\n",
              "      height: 32px;\n",
              "      padding: 0 0 0 0;\n",
              "      width: 32px;\n",
              "    }\n",
              "\n",
              "    .colab-df-convert:hover {\n",
              "      background-color: #E2EBFA;\n",
              "      box-shadow: 0px 1px 2px rgba(60, 64, 67, 0.3), 0px 1px 3px 1px rgba(60, 64, 67, 0.15);\n",
              "      fill: #174EA6;\n",
              "    }\n",
              "\n",
              "    [theme=dark] .colab-df-convert {\n",
              "      background-color: #3B4455;\n",
              "      fill: #D2E3FC;\n",
              "    }\n",
              "\n",
              "    [theme=dark] .colab-df-convert:hover {\n",
              "      background-color: #434B5C;\n",
              "      box-shadow: 0px 1px 3px 1px rgba(0, 0, 0, 0.15);\n",
              "      filter: drop-shadow(0px 1px 2px rgba(0, 0, 0, 0.3));\n",
              "      fill: #FFFFFF;\n",
              "    }\n",
              "  </style>\n",
              "\n",
              "      <script>\n",
              "        const buttonEl =\n",
              "          document.querySelector('#df-9665c2a2-109c-4119-915c-904d7544eb3e button.colab-df-convert');\n",
              "        buttonEl.style.display =\n",
              "          google.colab.kernel.accessAllowed ? 'block' : 'none';\n",
              "\n",
              "        async function convertToInteractive(key) {\n",
              "          const element = document.querySelector('#df-9665c2a2-109c-4119-915c-904d7544eb3e');\n",
              "          const dataTable =\n",
              "            await google.colab.kernel.invokeFunction('convertToInteractive',\n",
              "                                                     [key], {});\n",
              "          if (!dataTable) return;\n",
              "\n",
              "          const docLinkHtml = 'Like what you see? Visit the ' +\n",
              "            '<a target=\"_blank\" href=https://colab.research.google.com/notebooks/data_table.ipynb>data table notebook</a>'\n",
              "            + ' to learn more about interactive tables.';\n",
              "          element.innerHTML = '';\n",
              "          dataTable['output_type'] = 'display_data';\n",
              "          await google.colab.output.renderOutput(dataTable, element);\n",
              "          const docLink = document.createElement('div');\n",
              "          docLink.innerHTML = docLinkHtml;\n",
              "          element.appendChild(docLink);\n",
              "        }\n",
              "      </script>\n",
              "    </div>\n",
              "  </div>\n",
              "  "
            ]
          },
          "metadata": {},
          "execution_count": 3
        }
      ]
    },
    {
      "cell_type": "code",
      "source": [
        "df=df.iloc[:,2:5]"
      ],
      "metadata": {
        "id": "AxfWD1TbIWTo"
      },
      "execution_count": 4,
      "outputs": []
    },
    {
      "cell_type": "code",
      "source": [
        "df.sample(3)"
      ],
      "metadata": {
        "colab": {
          "base_uri": "https://localhost:8080/",
          "height": 144
        },
        "id": "KQn8nlS7J7Vv",
        "outputId": "c31ae51a-4505-4ec0-eba8-4a2e99a2549f"
      },
      "execution_count": 5,
      "outputs": [
        {
          "output_type": "execute_result",
          "data": {
            "text/plain": [
              "     review education purchased\n",
              "19     Poor        PG       Yes\n",
              "43     Poor        PG        No\n",
              "37  Average        PG       Yes"
            ],
            "text/html": [
              "\n",
              "  <div id=\"df-7f697e1e-5122-4bc8-9b14-bc740a521106\">\n",
              "    <div class=\"colab-df-container\">\n",
              "      <div>\n",
              "<style scoped>\n",
              "    .dataframe tbody tr th:only-of-type {\n",
              "        vertical-align: middle;\n",
              "    }\n",
              "\n",
              "    .dataframe tbody tr th {\n",
              "        vertical-align: top;\n",
              "    }\n",
              "\n",
              "    .dataframe thead th {\n",
              "        text-align: right;\n",
              "    }\n",
              "</style>\n",
              "<table border=\"1\" class=\"dataframe\">\n",
              "  <thead>\n",
              "    <tr style=\"text-align: right;\">\n",
              "      <th></th>\n",
              "      <th>review</th>\n",
              "      <th>education</th>\n",
              "      <th>purchased</th>\n",
              "    </tr>\n",
              "  </thead>\n",
              "  <tbody>\n",
              "    <tr>\n",
              "      <th>19</th>\n",
              "      <td>Poor</td>\n",
              "      <td>PG</td>\n",
              "      <td>Yes</td>\n",
              "    </tr>\n",
              "    <tr>\n",
              "      <th>43</th>\n",
              "      <td>Poor</td>\n",
              "      <td>PG</td>\n",
              "      <td>No</td>\n",
              "    </tr>\n",
              "    <tr>\n",
              "      <th>37</th>\n",
              "      <td>Average</td>\n",
              "      <td>PG</td>\n",
              "      <td>Yes</td>\n",
              "    </tr>\n",
              "  </tbody>\n",
              "</table>\n",
              "</div>\n",
              "      <button class=\"colab-df-convert\" onclick=\"convertToInteractive('df-7f697e1e-5122-4bc8-9b14-bc740a521106')\"\n",
              "              title=\"Convert this dataframe to an interactive table.\"\n",
              "              style=\"display:none;\">\n",
              "        \n",
              "  <svg xmlns=\"http://www.w3.org/2000/svg\" height=\"24px\"viewBox=\"0 0 24 24\"\n",
              "       width=\"24px\">\n",
              "    <path d=\"M0 0h24v24H0V0z\" fill=\"none\"/>\n",
              "    <path d=\"M18.56 5.44l.94 2.06.94-2.06 2.06-.94-2.06-.94-.94-2.06-.94 2.06-2.06.94zm-11 1L8.5 8.5l.94-2.06 2.06-.94-2.06-.94L8.5 2.5l-.94 2.06-2.06.94zm10 10l.94 2.06.94-2.06 2.06-.94-2.06-.94-.94-2.06-.94 2.06-2.06.94z\"/><path d=\"M17.41 7.96l-1.37-1.37c-.4-.4-.92-.59-1.43-.59-.52 0-1.04.2-1.43.59L10.3 9.45l-7.72 7.72c-.78.78-.78 2.05 0 2.83L4 21.41c.39.39.9.59 1.41.59.51 0 1.02-.2 1.41-.59l7.78-7.78 2.81-2.81c.8-.78.8-2.07 0-2.86zM5.41 20L4 18.59l7.72-7.72 1.47 1.35L5.41 20z\"/>\n",
              "  </svg>\n",
              "      </button>\n",
              "      \n",
              "  <style>\n",
              "    .colab-df-container {\n",
              "      display:flex;\n",
              "      flex-wrap:wrap;\n",
              "      gap: 12px;\n",
              "    }\n",
              "\n",
              "    .colab-df-convert {\n",
              "      background-color: #E8F0FE;\n",
              "      border: none;\n",
              "      border-radius: 50%;\n",
              "      cursor: pointer;\n",
              "      display: none;\n",
              "      fill: #1967D2;\n",
              "      height: 32px;\n",
              "      padding: 0 0 0 0;\n",
              "      width: 32px;\n",
              "    }\n",
              "\n",
              "    .colab-df-convert:hover {\n",
              "      background-color: #E2EBFA;\n",
              "      box-shadow: 0px 1px 2px rgba(60, 64, 67, 0.3), 0px 1px 3px 1px rgba(60, 64, 67, 0.15);\n",
              "      fill: #174EA6;\n",
              "    }\n",
              "\n",
              "    [theme=dark] .colab-df-convert {\n",
              "      background-color: #3B4455;\n",
              "      fill: #D2E3FC;\n",
              "    }\n",
              "\n",
              "    [theme=dark] .colab-df-convert:hover {\n",
              "      background-color: #434B5C;\n",
              "      box-shadow: 0px 1px 3px 1px rgba(0, 0, 0, 0.15);\n",
              "      filter: drop-shadow(0px 1px 2px rgba(0, 0, 0, 0.3));\n",
              "      fill: #FFFFFF;\n",
              "    }\n",
              "  </style>\n",
              "\n",
              "      <script>\n",
              "        const buttonEl =\n",
              "          document.querySelector('#df-7f697e1e-5122-4bc8-9b14-bc740a521106 button.colab-df-convert');\n",
              "        buttonEl.style.display =\n",
              "          google.colab.kernel.accessAllowed ? 'block' : 'none';\n",
              "\n",
              "        async function convertToInteractive(key) {\n",
              "          const element = document.querySelector('#df-7f697e1e-5122-4bc8-9b14-bc740a521106');\n",
              "          const dataTable =\n",
              "            await google.colab.kernel.invokeFunction('convertToInteractive',\n",
              "                                                     [key], {});\n",
              "          if (!dataTable) return;\n",
              "\n",
              "          const docLinkHtml = 'Like what you see? Visit the ' +\n",
              "            '<a target=\"_blank\" href=https://colab.research.google.com/notebooks/data_table.ipynb>data table notebook</a>'\n",
              "            + ' to learn more about interactive tables.';\n",
              "          element.innerHTML = '';\n",
              "          dataTable['output_type'] = 'display_data';\n",
              "          await google.colab.output.renderOutput(dataTable, element);\n",
              "          const docLink = document.createElement('div');\n",
              "          docLink.innerHTML = docLinkHtml;\n",
              "          element.appendChild(docLink);\n",
              "        }\n",
              "      </script>\n",
              "    </div>\n",
              "  </div>\n",
              "  "
            ]
          },
          "metadata": {},
          "execution_count": 5
        }
      ]
    },
    {
      "cell_type": "code",
      "source": [
        "from sklearn.model_selection import train_test_split\n",
        "x_train,x_test,y_train,y_test=train_test_split(df.iloc[:,0:2],df.iloc[:,2],test_size=0.3)"
      ],
      "metadata": {
        "id": "daxJ7wa6Kp_V"
      },
      "execution_count": 6,
      "outputs": []
    },
    {
      "cell_type": "code",
      "source": [
        "from sklearn.preprocessing import OrdinalEncoder"
      ],
      "metadata": {
        "id": "FqHmeKNzKPRQ"
      },
      "execution_count": 7,
      "outputs": []
    },
    {
      "cell_type": "code",
      "source": [
        "x_train.head(5)"
      ],
      "metadata": {
        "colab": {
          "base_uri": "https://localhost:8080/",
          "height": 206
        },
        "id": "OYC5xmsHKa1U",
        "outputId": "fcae9ef5-687d-4aa6-f8cc-588ec9883982"
      },
      "execution_count": 8,
      "outputs": [
        {
          "output_type": "execute_result",
          "data": {
            "text/plain": [
              "     review education\n",
              "29  Average        UG\n",
              "48     Good        UG\n",
              "26     Poor        PG\n",
              "25     Good    School\n",
              "27     Poor        PG"
            ],
            "text/html": [
              "\n",
              "  <div id=\"df-faacaabe-a413-4154-b00e-e8bc4f950e2a\">\n",
              "    <div class=\"colab-df-container\">\n",
              "      <div>\n",
              "<style scoped>\n",
              "    .dataframe tbody tr th:only-of-type {\n",
              "        vertical-align: middle;\n",
              "    }\n",
              "\n",
              "    .dataframe tbody tr th {\n",
              "        vertical-align: top;\n",
              "    }\n",
              "\n",
              "    .dataframe thead th {\n",
              "        text-align: right;\n",
              "    }\n",
              "</style>\n",
              "<table border=\"1\" class=\"dataframe\">\n",
              "  <thead>\n",
              "    <tr style=\"text-align: right;\">\n",
              "      <th></th>\n",
              "      <th>review</th>\n",
              "      <th>education</th>\n",
              "    </tr>\n",
              "  </thead>\n",
              "  <tbody>\n",
              "    <tr>\n",
              "      <th>29</th>\n",
              "      <td>Average</td>\n",
              "      <td>UG</td>\n",
              "    </tr>\n",
              "    <tr>\n",
              "      <th>48</th>\n",
              "      <td>Good</td>\n",
              "      <td>UG</td>\n",
              "    </tr>\n",
              "    <tr>\n",
              "      <th>26</th>\n",
              "      <td>Poor</td>\n",
              "      <td>PG</td>\n",
              "    </tr>\n",
              "    <tr>\n",
              "      <th>25</th>\n",
              "      <td>Good</td>\n",
              "      <td>School</td>\n",
              "    </tr>\n",
              "    <tr>\n",
              "      <th>27</th>\n",
              "      <td>Poor</td>\n",
              "      <td>PG</td>\n",
              "    </tr>\n",
              "  </tbody>\n",
              "</table>\n",
              "</div>\n",
              "      <button class=\"colab-df-convert\" onclick=\"convertToInteractive('df-faacaabe-a413-4154-b00e-e8bc4f950e2a')\"\n",
              "              title=\"Convert this dataframe to an interactive table.\"\n",
              "              style=\"display:none;\">\n",
              "        \n",
              "  <svg xmlns=\"http://www.w3.org/2000/svg\" height=\"24px\"viewBox=\"0 0 24 24\"\n",
              "       width=\"24px\">\n",
              "    <path d=\"M0 0h24v24H0V0z\" fill=\"none\"/>\n",
              "    <path d=\"M18.56 5.44l.94 2.06.94-2.06 2.06-.94-2.06-.94-.94-2.06-.94 2.06-2.06.94zm-11 1L8.5 8.5l.94-2.06 2.06-.94-2.06-.94L8.5 2.5l-.94 2.06-2.06.94zm10 10l.94 2.06.94-2.06 2.06-.94-2.06-.94-.94-2.06-.94 2.06-2.06.94z\"/><path d=\"M17.41 7.96l-1.37-1.37c-.4-.4-.92-.59-1.43-.59-.52 0-1.04.2-1.43.59L10.3 9.45l-7.72 7.72c-.78.78-.78 2.05 0 2.83L4 21.41c.39.39.9.59 1.41.59.51 0 1.02-.2 1.41-.59l7.78-7.78 2.81-2.81c.8-.78.8-2.07 0-2.86zM5.41 20L4 18.59l7.72-7.72 1.47 1.35L5.41 20z\"/>\n",
              "  </svg>\n",
              "      </button>\n",
              "      \n",
              "  <style>\n",
              "    .colab-df-container {\n",
              "      display:flex;\n",
              "      flex-wrap:wrap;\n",
              "      gap: 12px;\n",
              "    }\n",
              "\n",
              "    .colab-df-convert {\n",
              "      background-color: #E8F0FE;\n",
              "      border: none;\n",
              "      border-radius: 50%;\n",
              "      cursor: pointer;\n",
              "      display: none;\n",
              "      fill: #1967D2;\n",
              "      height: 32px;\n",
              "      padding: 0 0 0 0;\n",
              "      width: 32px;\n",
              "    }\n",
              "\n",
              "    .colab-df-convert:hover {\n",
              "      background-color: #E2EBFA;\n",
              "      box-shadow: 0px 1px 2px rgba(60, 64, 67, 0.3), 0px 1px 3px 1px rgba(60, 64, 67, 0.15);\n",
              "      fill: #174EA6;\n",
              "    }\n",
              "\n",
              "    [theme=dark] .colab-df-convert {\n",
              "      background-color: #3B4455;\n",
              "      fill: #D2E3FC;\n",
              "    }\n",
              "\n",
              "    [theme=dark] .colab-df-convert:hover {\n",
              "      background-color: #434B5C;\n",
              "      box-shadow: 0px 1px 3px 1px rgba(0, 0, 0, 0.15);\n",
              "      filter: drop-shadow(0px 1px 2px rgba(0, 0, 0, 0.3));\n",
              "      fill: #FFFFFF;\n",
              "    }\n",
              "  </style>\n",
              "\n",
              "      <script>\n",
              "        const buttonEl =\n",
              "          document.querySelector('#df-faacaabe-a413-4154-b00e-e8bc4f950e2a button.colab-df-convert');\n",
              "        buttonEl.style.display =\n",
              "          google.colab.kernel.accessAllowed ? 'block' : 'none';\n",
              "\n",
              "        async function convertToInteractive(key) {\n",
              "          const element = document.querySelector('#df-faacaabe-a413-4154-b00e-e8bc4f950e2a');\n",
              "          const dataTable =\n",
              "            await google.colab.kernel.invokeFunction('convertToInteractive',\n",
              "                                                     [key], {});\n",
              "          if (!dataTable) return;\n",
              "\n",
              "          const docLinkHtml = 'Like what you see? Visit the ' +\n",
              "            '<a target=\"_blank\" href=https://colab.research.google.com/notebooks/data_table.ipynb>data table notebook</a>'\n",
              "            + ' to learn more about interactive tables.';\n",
              "          element.innerHTML = '';\n",
              "          dataTable['output_type'] = 'display_data';\n",
              "          await google.colab.output.renderOutput(dataTable, element);\n",
              "          const docLink = document.createElement('div');\n",
              "          docLink.innerHTML = docLinkHtml;\n",
              "          element.appendChild(docLink);\n",
              "        }\n",
              "      </script>\n",
              "    </div>\n",
              "  </div>\n",
              "  "
            ]
          },
          "metadata": {},
          "execution_count": 8
        }
      ]
    },
    {
      "cell_type": "code",
      "source": [
        "categ=[['Poor','Average','Good'],['School','UG','PG']]\n",
        "oe = OrdinalEncoder(categories=categ)"
      ],
      "metadata": {
        "id": "SJtWh7OQLPEL"
      },
      "execution_count": 9,
      "outputs": []
    },
    {
      "cell_type": "code",
      "source": [
        "oe.fit(x_train)"
      ],
      "metadata": {
        "colab": {
          "base_uri": "https://localhost:8080/"
        },
        "id": "iaO9vhy6LhvP",
        "outputId": "65e9a1ce-99eb-412a-8b1e-1d65155a70b3"
      },
      "execution_count": 10,
      "outputs": [
        {
          "output_type": "execute_result",
          "data": {
            "text/plain": [
              "OrdinalEncoder(categories=[['Poor', 'Average', 'Good'], ['School', 'UG', 'PG']])"
            ]
          },
          "metadata": {},
          "execution_count": 10
        }
      ]
    },
    {
      "cell_type": "code",
      "source": [
        "new_xtrain=oe.transform(x_train)\n"
      ],
      "metadata": {
        "id": "HqMVOhC6Lr6J"
      },
      "execution_count": 11,
      "outputs": []
    },
    {
      "cell_type": "code",
      "source": [
        "new_xtest=oe.transform(x_test)"
      ],
      "metadata": {
        "id": "fk26fZRMMKXn"
      },
      "execution_count": 12,
      "outputs": []
    },
    {
      "cell_type": "code",
      "source": [
        "new_xtrain"
      ],
      "metadata": {
        "colab": {
          "base_uri": "https://localhost:8080/"
        },
        "id": "HljUQHxGL6qC",
        "outputId": "79aba5ad-64bc-4476-a502-262f24f77714"
      },
      "execution_count": 13,
      "outputs": [
        {
          "output_type": "execute_result",
          "data": {
            "text/plain": [
              "array([[1., 1.],\n",
              "       [2., 1.],\n",
              "       [0., 2.],\n",
              "       [2., 0.],\n",
              "       [0., 2.],\n",
              "       [0., 2.],\n",
              "       [0., 0.],\n",
              "       [1., 0.],\n",
              "       [1., 1.],\n",
              "       [2., 2.],\n",
              "       [0., 2.],\n",
              "       [2., 0.],\n",
              "       [2., 1.],\n",
              "       [0., 1.],\n",
              "       [1., 2.],\n",
              "       [0., 1.],\n",
              "       [0., 2.],\n",
              "       [1., 1.],\n",
              "       [2., 2.],\n",
              "       [2., 2.],\n",
              "       [1., 1.],\n",
              "       [2., 1.],\n",
              "       [0., 1.],\n",
              "       [1., 2.],\n",
              "       [2., 0.],\n",
              "       [1., 0.],\n",
              "       [0., 0.],\n",
              "       [0., 0.],\n",
              "       [1., 0.],\n",
              "       [2., 2.],\n",
              "       [0., 0.],\n",
              "       [2., 0.],\n",
              "       [1., 0.],\n",
              "       [0., 2.],\n",
              "       [1., 1.]])"
            ]
          },
          "metadata": {},
          "execution_count": 13
        }
      ]
    },
    {
      "cell_type": "code",
      "source": [
        "new_xtest"
      ],
      "metadata": {
        "colab": {
          "base_uri": "https://localhost:8080/"
        },
        "id": "M0IU1BaUL8eq",
        "outputId": "61a79cdf-4b04-4057-fd98-a6fd6dd2907a"
      },
      "execution_count": 14,
      "outputs": [
        {
          "output_type": "execute_result",
          "data": {
            "text/plain": [
              "array([[0., 1.],\n",
              "       [2., 2.],\n",
              "       [2., 0.],\n",
              "       [0., 2.],\n",
              "       [2., 1.],\n",
              "       [2., 1.],\n",
              "       [2., 2.],\n",
              "       [0., 2.],\n",
              "       [0., 0.],\n",
              "       [0., 2.],\n",
              "       [2., 1.],\n",
              "       [1., 1.],\n",
              "       [1., 2.],\n",
              "       [2., 0.],\n",
              "       [1., 0.]])"
            ]
          },
          "metadata": {},
          "execution_count": 14
        }
      ]
    },
    {
      "cell_type": "markdown",
      "source": [
        "# **Label Encoding**"
      ],
      "metadata": {
        "id": "MrpcQkcKMTiZ"
      }
    },
    {
      "cell_type": "code",
      "source": [
        "from sklearn.preprocessing import LabelEncoder"
      ],
      "metadata": {
        "id": "oLHbLP6PMOJc"
      },
      "execution_count": 15,
      "outputs": []
    },
    {
      "cell_type": "code",
      "source": [
        "le = LabelEncoder()"
      ],
      "metadata": {
        "id": "mAxCrgO1MhvW"
      },
      "execution_count": 16,
      "outputs": []
    },
    {
      "cell_type": "code",
      "source": [
        "le.fit(y_train)"
      ],
      "metadata": {
        "colab": {
          "base_uri": "https://localhost:8080/"
        },
        "id": "D6ik1l-wMjjJ",
        "outputId": "ce3c7a13-2765-4191-a7b3-0f2d422826ec"
      },
      "execution_count": 17,
      "outputs": [
        {
          "output_type": "execute_result",
          "data": {
            "text/plain": [
              "LabelEncoder()"
            ]
          },
          "metadata": {},
          "execution_count": 17
        }
      ]
    },
    {
      "cell_type": "code",
      "source": [
        "le.classes_"
      ],
      "metadata": {
        "colab": {
          "base_uri": "https://localhost:8080/"
        },
        "id": "tl7Qnr7fMluN",
        "outputId": "8bfed3ef-1f83-4a35-9c69-ba1a896ca2fa"
      },
      "execution_count": 18,
      "outputs": [
        {
          "output_type": "execute_result",
          "data": {
            "text/plain": [
              "array(['No', 'Yes'], dtype=object)"
            ]
          },
          "metadata": {},
          "execution_count": 18
        }
      ]
    },
    {
      "cell_type": "code",
      "source": [
        "y_train = le.transform(y_train)\n",
        "y_test = le.transform(y_test)"
      ],
      "metadata": {
        "id": "EQ9XyCJLMniw"
      },
      "execution_count": 19,
      "outputs": []
    },
    {
      "cell_type": "code",
      "source": [
        "y_train"
      ],
      "metadata": {
        "colab": {
          "base_uri": "https://localhost:8080/"
        },
        "id": "KcSuaIpVMp6d",
        "outputId": "fc5e50e5-e52d-43f6-f84d-82bdb807dea0"
      },
      "execution_count": 20,
      "outputs": [
        {
          "output_type": "execute_result",
          "data": {
            "text/plain": [
              "array([1, 1, 0, 0, 0, 1, 0, 0, 0, 1, 0, 0, 1, 0, 1, 0, 1, 0, 1, 0, 1, 1,\n",
              "       1, 1, 0, 1, 1, 1, 1, 0, 0, 0, 0, 0, 0])"
            ]
          },
          "metadata": {},
          "execution_count": 20
        }
      ]
    },
    {
      "cell_type": "markdown",
      "source": [
        "# **Handling Nominal data**\n",
        "using one hot encoding"
      ],
      "metadata": {
        "id": "Ytr_HuPuNLKQ"
      }
    },
    {
      "cell_type": "markdown",
      "source": [
        "![image.png](data:image/png;base64,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)"
      ],
      "metadata": {
        "id": "N4_DZPA9M6CU"
      }
    },
    {
      "cell_type": "markdown",
      "source": [
        "## **Dummy Variable Trap:**\n",
        "- The Dummy variable trap is a scenario where there are attributes that are highly correlated (Multicollinear) and one variable predicts the value of others. When we use one-hot encoding for handling the categorical data, then one dummy variable (attribute) can be predicted with the help of other dummy variables. Hence, one dummy variable is highly correlated with other dummy variables. Using all dummy variables for regression models leads to a dummy variable trap. So, the regression models should be designed to exclude one dummy variable. "
      ],
      "metadata": {
        "id": "qfDaxlGtNfqv"
      }
    },
    {
      "cell_type": "markdown",
      "source": [
        "<figure>\n",
        "<center>\n",
        "<img src='https://lh6.googleusercontent.com/GKCJjLJn0F4AurkOb24FNK4-rxFekazmnJwJ4TuQsmtDO92VGSk5N6OfMH0R92FZgxulTkbsrG2ChD053ld-l3l_2t6i113H42FPms-C--tgYh4g6Z43xxszbDTko71vTaQnGlES' />\n",
        "</center>\n",
        "</figure>\n",
        "\n",
        "<figure>\n",
        "<center>\n",
        "<img src='https://lh3.googleusercontent.com/eT8_VSkAgUeevU-y1rsnYlj4XBDopBPYXITJ4Q4KE-yjq54HIkeWmtwhvencL8piO8SdgiOefqlZEwz0fGv7tMvDNdX0Co2WA9U7t-u252nR43uWnjvH3xD9c-q5V2_eA863tyJE' />\n",
        "</center>\n",
        "</figure>"
      ],
      "metadata": {
        "id": "5X0i7ARgOwj9"
      }
    },
    {
      "cell_type": "code",
      "source": [
        "murl=\"https://raw.githubusercontent.com/coderanandmaurya/Feature-engineering/main/CAR%20DETAILS%20FROM%20CAR%20DEKHO.csv\""
      ],
      "metadata": {
        "id": "PpBGCe0hNO1e"
      },
      "execution_count": 21,
      "outputs": []
    },
    {
      "cell_type": "code",
      "source": [
        "data=pd.read_csv(murl)"
      ],
      "metadata": {
        "id": "4-Xr3ZquQgs-"
      },
      "execution_count": 22,
      "outputs": []
    },
    {
      "cell_type": "code",
      "source": [
        "data.head()"
      ],
      "metadata": {
        "colab": {
          "base_uri": "https://localhost:8080/",
          "height": 479
        },
        "id": "OUBqFCRXQmvZ",
        "outputId": "a73713f2-1e4a-4ec6-d3af-3964def4a799"
      },
      "execution_count": 23,
      "outputs": [
        {
          "output_type": "execute_result",
          "data": {
            "text/plain": [
              "                       name  year  selling_price  km_driven    fuel  \\\n",
              "0             Maruti 800 AC  2007          60000      70000  Petrol   \n",
              "1  Maruti Wagon R LXI Minor  2007         135000      50000  Petrol   \n",
              "2      Hyundai Verna 1.6 SX  2012         600000     100000  Diesel   \n",
              "3    Datsun RediGO T Option  2017         250000      46000  Petrol   \n",
              "4     Honda Amaze VX i-DTEC  2014         450000     141000  Diesel   \n",
              "\n",
              "  seller_type transmission         owner  \n",
              "0  Individual       Manual   First Owner  \n",
              "1  Individual       Manual   First Owner  \n",
              "2  Individual       Manual   First Owner  \n",
              "3  Individual       Manual   First Owner  \n",
              "4  Individual       Manual  Second Owner  "
            ],
            "text/html": [
              "\n",
              "  <div id=\"df-2e450c11-baca-4eb4-b69c-8b1a585fe913\">\n",
              "    <div class=\"colab-df-container\">\n",
              "      <div>\n",
              "<style scoped>\n",
              "    .dataframe tbody tr th:only-of-type {\n",
              "        vertical-align: middle;\n",
              "    }\n",
              "\n",
              "    .dataframe tbody tr th {\n",
              "        vertical-align: top;\n",
              "    }\n",
              "\n",
              "    .dataframe thead th {\n",
              "        text-align: right;\n",
              "    }\n",
              "</style>\n",
              "<table border=\"1\" class=\"dataframe\">\n",
              "  <thead>\n",
              "    <tr style=\"text-align: right;\">\n",
              "      <th></th>\n",
              "      <th>name</th>\n",
              "      <th>year</th>\n",
              "      <th>selling_price</th>\n",
              "      <th>km_driven</th>\n",
              "      <th>fuel</th>\n",
              "      <th>seller_type</th>\n",
              "      <th>transmission</th>\n",
              "      <th>owner</th>\n",
              "    </tr>\n",
              "  </thead>\n",
              "  <tbody>\n",
              "    <tr>\n",
              "      <th>0</th>\n",
              "      <td>Maruti 800 AC</td>\n",
              "      <td>2007</td>\n",
              "      <td>60000</td>\n",
              "      <td>70000</td>\n",
              "      <td>Petrol</td>\n",
              "      <td>Individual</td>\n",
              "      <td>Manual</td>\n",
              "      <td>First Owner</td>\n",
              "    </tr>\n",
              "    <tr>\n",
              "      <th>1</th>\n",
              "      <td>Maruti Wagon R LXI Minor</td>\n",
              "      <td>2007</td>\n",
              "      <td>135000</td>\n",
              "      <td>50000</td>\n",
              "      <td>Petrol</td>\n",
              "      <td>Individual</td>\n",
              "      <td>Manual</td>\n",
              "      <td>First Owner</td>\n",
              "    </tr>\n",
              "    <tr>\n",
              "      <th>2</th>\n",
              "      <td>Hyundai Verna 1.6 SX</td>\n",
              "      <td>2012</td>\n",
              "      <td>600000</td>\n",
              "      <td>100000</td>\n",
              "      <td>Diesel</td>\n",
              "      <td>Individual</td>\n",
              "      <td>Manual</td>\n",
              "      <td>First Owner</td>\n",
              "    </tr>\n",
              "    <tr>\n",
              "      <th>3</th>\n",
              "      <td>Datsun RediGO T Option</td>\n",
              "      <td>2017</td>\n",
              "      <td>250000</td>\n",
              "      <td>46000</td>\n",
              "      <td>Petrol</td>\n",
              "      <td>Individual</td>\n",
              "      <td>Manual</td>\n",
              "      <td>First Owner</td>\n",
              "    </tr>\n",
              "    <tr>\n",
              "      <th>4</th>\n",
              "      <td>Honda Amaze VX i-DTEC</td>\n",
              "      <td>2014</td>\n",
              "      <td>450000</td>\n",
              "      <td>141000</td>\n",
              "      <td>Diesel</td>\n",
              "      <td>Individual</td>\n",
              "      <td>Manual</td>\n",
              "      <td>Second Owner</td>\n",
              "    </tr>\n",
              "  </tbody>\n",
              "</table>\n",
              "</div>\n",
              "      <button class=\"colab-df-convert\" onclick=\"convertToInteractive('df-2e450c11-baca-4eb4-b69c-8b1a585fe913')\"\n",
              "              title=\"Convert this dataframe to an interactive table.\"\n",
              "              style=\"display:none;\">\n",
              "        \n",
              "  <svg xmlns=\"http://www.w3.org/2000/svg\" height=\"24px\"viewBox=\"0 0 24 24\"\n",
              "       width=\"24px\">\n",
              "    <path d=\"M0 0h24v24H0V0z\" fill=\"none\"/>\n",
              "    <path d=\"M18.56 5.44l.94 2.06.94-2.06 2.06-.94-2.06-.94-.94-2.06-.94 2.06-2.06.94zm-11 1L8.5 8.5l.94-2.06 2.06-.94-2.06-.94L8.5 2.5l-.94 2.06-2.06.94zm10 10l.94 2.06.94-2.06 2.06-.94-2.06-.94-.94-2.06-.94 2.06-2.06.94z\"/><path d=\"M17.41 7.96l-1.37-1.37c-.4-.4-.92-.59-1.43-.59-.52 0-1.04.2-1.43.59L10.3 9.45l-7.72 7.72c-.78.78-.78 2.05 0 2.83L4 21.41c.39.39.9.59 1.41.59.51 0 1.02-.2 1.41-.59l7.78-7.78 2.81-2.81c.8-.78.8-2.07 0-2.86zM5.41 20L4 18.59l7.72-7.72 1.47 1.35L5.41 20z\"/>\n",
              "  </svg>\n",
              "      </button>\n",
              "      \n",
              "  <style>\n",
              "    .colab-df-container {\n",
              "      display:flex;\n",
              "      flex-wrap:wrap;\n",
              "      gap: 12px;\n",
              "    }\n",
              "\n",
              "    .colab-df-convert {\n",
              "      background-color: #E8F0FE;\n",
              "      border: none;\n",
              "      border-radius: 50%;\n",
              "      cursor: pointer;\n",
              "      display: none;\n",
              "      fill: #1967D2;\n",
              "      height: 32px;\n",
              "      padding: 0 0 0 0;\n",
              "      width: 32px;\n",
              "    }\n",
              "\n",
              "    .colab-df-convert:hover {\n",
              "      background-color: #E2EBFA;\n",
              "      box-shadow: 0px 1px 2px rgba(60, 64, 67, 0.3), 0px 1px 3px 1px rgba(60, 64, 67, 0.15);\n",
              "      fill: #174EA6;\n",
              "    }\n",
              "\n",
              "    [theme=dark] .colab-df-convert {\n",
              "      background-color: #3B4455;\n",
              "      fill: #D2E3FC;\n",
              "    }\n",
              "\n",
              "    [theme=dark] .colab-df-convert:hover {\n",
              "      background-color: #434B5C;\n",
              "      box-shadow: 0px 1px 3px 1px rgba(0, 0, 0, 0.15);\n",
              "      filter: drop-shadow(0px 1px 2px rgba(0, 0, 0, 0.3));\n",
              "      fill: #FFFFFF;\n",
              "    }\n",
              "  </style>\n",
              "\n",
              "      <script>\n",
              "        const buttonEl =\n",
              "          document.querySelector('#df-2e450c11-baca-4eb4-b69c-8b1a585fe913 button.colab-df-convert');\n",
              "        buttonEl.style.display =\n",
              "          google.colab.kernel.accessAllowed ? 'block' : 'none';\n",
              "\n",
              "        async function convertToInteractive(key) {\n",
              "          const element = document.querySelector('#df-2e450c11-baca-4eb4-b69c-8b1a585fe913');\n",
              "          const dataTable =\n",
              "            await google.colab.kernel.invokeFunction('convertToInteractive',\n",
              "                                                     [key], {});\n",
              "          if (!dataTable) return;\n",
              "\n",
              "          const docLinkHtml = 'Like what you see? Visit the ' +\n",
              "            '<a target=\"_blank\" href=https://colab.research.google.com/notebooks/data_table.ipynb>data table notebook</a>'\n",
              "            + ' to learn more about interactive tables.';\n",
              "          element.innerHTML = '';\n",
              "          dataTable['output_type'] = 'display_data';\n",
              "          await google.colab.output.renderOutput(dataTable, element);\n",
              "          const docLink = document.createElement('div');\n",
              "          docLink.innerHTML = docLinkHtml;\n",
              "          element.appendChild(docLink);\n",
              "        }\n",
              "      </script>\n",
              "    </div>\n",
              "  </div>\n",
              "  "
            ]
          },
          "metadata": {},
          "execution_count": 23
        }
      ]
    },
    {
      "cell_type": "code",
      "source": [
        "data[\"fuel\"].value_counts()"
      ],
      "metadata": {
        "colab": {
          "base_uri": "https://localhost:8080/"
        },
        "id": "EDa-T3p0Qpfx",
        "outputId": "c0f1e9c6-985b-473e-ba71-5ee7cb74e919"
      },
      "execution_count": 24,
      "outputs": [
        {
          "output_type": "execute_result",
          "data": {
            "text/plain": [
              "Diesel      2153\n",
              "Petrol      2123\n",
              "CNG           40\n",
              "LPG           23\n",
              "Electric       1\n",
              "Name: fuel, dtype: int64"
            ]
          },
          "metadata": {},
          "execution_count": 24
        }
      ]
    },
    {
      "cell_type": "markdown",
      "source": [
        "# **OHE using pandas**"
      ],
      "metadata": {
        "id": "t5K2riuCQ_Jc"
      }
    },
    {
      "cell_type": "code",
      "source": [
        "pd.get_dummies(data,columns=['fuel'])"
      ],
      "metadata": {
        "colab": {
          "base_uri": "https://localhost:8080/",
          "height": 1000
        },
        "id": "OIHWf8goQ0cP",
        "outputId": "899b9a3d-d4a1-4cbf-b51f-0caac34abe4f"
      },
      "execution_count": 25,
      "outputs": [
        {
          "output_type": "execute_result",
          "data": {
            "text/plain": [
              "                                     name  year  selling_price  km_driven  \\\n",
              "0                           Maruti 800 AC  2007          60000      70000   \n",
              "1                Maruti Wagon R LXI Minor  2007         135000      50000   \n",
              "2                    Hyundai Verna 1.6 SX  2012         600000     100000   \n",
              "3                  Datsun RediGO T Option  2017         250000      46000   \n",
              "4                   Honda Amaze VX i-DTEC  2014         450000     141000   \n",
              "...                                   ...   ...            ...        ...   \n",
              "4335  Hyundai i20 Magna 1.4 CRDi (Diesel)  2014         409999      80000   \n",
              "4336           Hyundai i20 Magna 1.4 CRDi  2014         409999      80000   \n",
              "4337                  Maruti 800 AC BSIII  2009         110000      83000   \n",
              "4338     Hyundai Creta 1.6 CRDi SX Option  2016         865000      90000   \n",
              "4339                     Renault KWID RXT  2016         225000      40000   \n",
              "\n",
              "     seller_type transmission         owner  fuel_CNG  fuel_Diesel  \\\n",
              "0     Individual       Manual   First Owner         0            0   \n",
              "1     Individual       Manual   First Owner         0            0   \n",
              "2     Individual       Manual   First Owner         0            1   \n",
              "3     Individual       Manual   First Owner         0            0   \n",
              "4     Individual       Manual  Second Owner         0            1   \n",
              "...          ...          ...           ...       ...          ...   \n",
              "4335  Individual       Manual  Second Owner         0            1   \n",
              "4336  Individual       Manual  Second Owner         0            1   \n",
              "4337  Individual       Manual  Second Owner         0            0   \n",
              "4338  Individual       Manual   First Owner         0            1   \n",
              "4339  Individual       Manual   First Owner         0            0   \n",
              "\n",
              "      fuel_Electric  fuel_LPG  fuel_Petrol  \n",
              "0                 0         0            1  \n",
              "1                 0         0            1  \n",
              "2                 0         0            0  \n",
              "3                 0         0            1  \n",
              "4                 0         0            0  \n",
              "...             ...       ...          ...  \n",
              "4335              0         0            0  \n",
              "4336              0         0            0  \n",
              "4337              0         0            1  \n",
              "4338              0         0            0  \n",
              "4339              0         0            1  \n",
              "\n",
              "[4340 rows x 12 columns]"
            ],
            "text/html": [
              "\n",
              "  <div id=\"df-33611380-2aad-456f-ab02-eb93398e66f6\">\n",
              "    <div class=\"colab-df-container\">\n",
              "      <div>\n",
              "<style scoped>\n",
              "    .dataframe tbody tr th:only-of-type {\n",
              "        vertical-align: middle;\n",
              "    }\n",
              "\n",
              "    .dataframe tbody tr th {\n",
              "        vertical-align: top;\n",
              "    }\n",
              "\n",
              "    .dataframe thead th {\n",
              "        text-align: right;\n",
              "    }\n",
              "</style>\n",
              "<table border=\"1\" class=\"dataframe\">\n",
              "  <thead>\n",
              "    <tr style=\"text-align: right;\">\n",
              "      <th></th>\n",
              "      <th>name</th>\n",
              "      <th>year</th>\n",
              "      <th>selling_price</th>\n",
              "      <th>km_driven</th>\n",
              "      <th>seller_type</th>\n",
              "      <th>transmission</th>\n",
              "      <th>owner</th>\n",
              "      <th>fuel_CNG</th>\n",
              "      <th>fuel_Diesel</th>\n",
              "      <th>fuel_Electric</th>\n",
              "      <th>fuel_LPG</th>\n",
              "      <th>fuel_Petrol</th>\n",
              "    </tr>\n",
              "  </thead>\n",
              "  <tbody>\n",
              "    <tr>\n",
              "      <th>0</th>\n",
              "      <td>Maruti 800 AC</td>\n",
              "      <td>2007</td>\n",
              "      <td>60000</td>\n",
              "      <td>70000</td>\n",
              "      <td>Individual</td>\n",
              "      <td>Manual</td>\n",
              "      <td>First Owner</td>\n",
              "      <td>0</td>\n",
              "      <td>0</td>\n",
              "      <td>0</td>\n",
              "      <td>0</td>\n",
              "      <td>1</td>\n",
              "    </tr>\n",
              "    <tr>\n",
              "      <th>1</th>\n",
              "      <td>Maruti Wagon R LXI Minor</td>\n",
              "      <td>2007</td>\n",
              "      <td>135000</td>\n",
              "      <td>50000</td>\n",
              "      <td>Individual</td>\n",
              "      <td>Manual</td>\n",
              "      <td>First Owner</td>\n",
              "      <td>0</td>\n",
              "      <td>0</td>\n",
              "      <td>0</td>\n",
              "      <td>0</td>\n",
              "      <td>1</td>\n",
              "    </tr>\n",
              "    <tr>\n",
              "      <th>2</th>\n",
              "      <td>Hyundai Verna 1.6 SX</td>\n",
              "      <td>2012</td>\n",
              "      <td>600000</td>\n",
              "      <td>100000</td>\n",
              "      <td>Individual</td>\n",
              "      <td>Manual</td>\n",
              "      <td>First Owner</td>\n",
              "      <td>0</td>\n",
              "      <td>1</td>\n",
              "      <td>0</td>\n",
              "      <td>0</td>\n",
              "      <td>0</td>\n",
              "    </tr>\n",
              "    <tr>\n",
              "      <th>3</th>\n",
              "      <td>Datsun RediGO T Option</td>\n",
              "      <td>2017</td>\n",
              "      <td>250000</td>\n",
              "      <td>46000</td>\n",
              "      <td>Individual</td>\n",
              "      <td>Manual</td>\n",
              "      <td>First Owner</td>\n",
              "      <td>0</td>\n",
              "      <td>0</td>\n",
              "      <td>0</td>\n",
              "      <td>0</td>\n",
              "      <td>1</td>\n",
              "    </tr>\n",
              "    <tr>\n",
              "      <th>4</th>\n",
              "      <td>Honda Amaze VX i-DTEC</td>\n",
              "      <td>2014</td>\n",
              "      <td>450000</td>\n",
              "      <td>141000</td>\n",
              "      <td>Individual</td>\n",
              "      <td>Manual</td>\n",
              "      <td>Second Owner</td>\n",
              "      <td>0</td>\n",
              "      <td>1</td>\n",
              "      <td>0</td>\n",
              "      <td>0</td>\n",
              "      <td>0</td>\n",
              "    </tr>\n",
              "    <tr>\n",
              "      <th>...</th>\n",
              "      <td>...</td>\n",
              "      <td>...</td>\n",
              "      <td>...</td>\n",
              "      <td>...</td>\n",
              "      <td>...</td>\n",
              "      <td>...</td>\n",
              "      <td>...</td>\n",
              "      <td>...</td>\n",
              "      <td>...</td>\n",
              "      <td>...</td>\n",
              "      <td>...</td>\n",
              "      <td>...</td>\n",
              "    </tr>\n",
              "    <tr>\n",
              "      <th>4335</th>\n",
              "      <td>Hyundai i20 Magna 1.4 CRDi (Diesel)</td>\n",
              "      <td>2014</td>\n",
              "      <td>409999</td>\n",
              "      <td>80000</td>\n",
              "      <td>Individual</td>\n",
              "      <td>Manual</td>\n",
              "      <td>Second Owner</td>\n",
              "      <td>0</td>\n",
              "      <td>1</td>\n",
              "      <td>0</td>\n",
              "      <td>0</td>\n",
              "      <td>0</td>\n",
              "    </tr>\n",
              "    <tr>\n",
              "      <th>4336</th>\n",
              "      <td>Hyundai i20 Magna 1.4 CRDi</td>\n",
              "      <td>2014</td>\n",
              "      <td>409999</td>\n",
              "      <td>80000</td>\n",
              "      <td>Individual</td>\n",
              "      <td>Manual</td>\n",
              "      <td>Second Owner</td>\n",
              "      <td>0</td>\n",
              "      <td>1</td>\n",
              "      <td>0</td>\n",
              "      <td>0</td>\n",
              "      <td>0</td>\n",
              "    </tr>\n",
              "    <tr>\n",
              "      <th>4337</th>\n",
              "      <td>Maruti 800 AC BSIII</td>\n",
              "      <td>2009</td>\n",
              "      <td>110000</td>\n",
              "      <td>83000</td>\n",
              "      <td>Individual</td>\n",
              "      <td>Manual</td>\n",
              "      <td>Second Owner</td>\n",
              "      <td>0</td>\n",
              "      <td>0</td>\n",
              "      <td>0</td>\n",
              "      <td>0</td>\n",
              "      <td>1</td>\n",
              "    </tr>\n",
              "    <tr>\n",
              "      <th>4338</th>\n",
              "      <td>Hyundai Creta 1.6 CRDi SX Option</td>\n",
              "      <td>2016</td>\n",
              "      <td>865000</td>\n",
              "      <td>90000</td>\n",
              "      <td>Individual</td>\n",
              "      <td>Manual</td>\n",
              "      <td>First Owner</td>\n",
              "      <td>0</td>\n",
              "      <td>1</td>\n",
              "      <td>0</td>\n",
              "      <td>0</td>\n",
              "      <td>0</td>\n",
              "    </tr>\n",
              "    <tr>\n",
              "      <th>4339</th>\n",
              "      <td>Renault KWID RXT</td>\n",
              "      <td>2016</td>\n",
              "      <td>225000</td>\n",
              "      <td>40000</td>\n",
              "      <td>Individual</td>\n",
              "      <td>Manual</td>\n",
              "      <td>First Owner</td>\n",
              "      <td>0</td>\n",
              "      <td>0</td>\n",
              "      <td>0</td>\n",
              "      <td>0</td>\n",
              "      <td>1</td>\n",
              "    </tr>\n",
              "  </tbody>\n",
              "</table>\n",
              "<p>4340 rows × 12 columns</p>\n",
              "</div>\n",
              "      <button class=\"colab-df-convert\" onclick=\"convertToInteractive('df-33611380-2aad-456f-ab02-eb93398e66f6')\"\n",
              "              title=\"Convert this dataframe to an interactive table.\"\n",
              "              style=\"display:none;\">\n",
              "        \n",
              "  <svg xmlns=\"http://www.w3.org/2000/svg\" height=\"24px\"viewBox=\"0 0 24 24\"\n",
              "       width=\"24px\">\n",
              "    <path d=\"M0 0h24v24H0V0z\" fill=\"none\"/>\n",
              "    <path d=\"M18.56 5.44l.94 2.06.94-2.06 2.06-.94-2.06-.94-.94-2.06-.94 2.06-2.06.94zm-11 1L8.5 8.5l.94-2.06 2.06-.94-2.06-.94L8.5 2.5l-.94 2.06-2.06.94zm10 10l.94 2.06.94-2.06 2.06-.94-2.06-.94-.94-2.06-.94 2.06-2.06.94z\"/><path d=\"M17.41 7.96l-1.37-1.37c-.4-.4-.92-.59-1.43-.59-.52 0-1.04.2-1.43.59L10.3 9.45l-7.72 7.72c-.78.78-.78 2.05 0 2.83L4 21.41c.39.39.9.59 1.41.59.51 0 1.02-.2 1.41-.59l7.78-7.78 2.81-2.81c.8-.78.8-2.07 0-2.86zM5.41 20L4 18.59l7.72-7.72 1.47 1.35L5.41 20z\"/>\n",
              "  </svg>\n",
              "      </button>\n",
              "      \n",
              "  <style>\n",
              "    .colab-df-container {\n",
              "      display:flex;\n",
              "      flex-wrap:wrap;\n",
              "      gap: 12px;\n",
              "    }\n",
              "\n",
              "    .colab-df-convert {\n",
              "      background-color: #E8F0FE;\n",
              "      border: none;\n",
              "      border-radius: 50%;\n",
              "      cursor: pointer;\n",
              "      display: none;\n",
              "      fill: #1967D2;\n",
              "      height: 32px;\n",
              "      padding: 0 0 0 0;\n",
              "      width: 32px;\n",
              "    }\n",
              "\n",
              "    .colab-df-convert:hover {\n",
              "      background-color: #E2EBFA;\n",
              "      box-shadow: 0px 1px 2px rgba(60, 64, 67, 0.3), 0px 1px 3px 1px rgba(60, 64, 67, 0.15);\n",
              "      fill: #174EA6;\n",
              "    }\n",
              "\n",
              "    [theme=dark] .colab-df-convert {\n",
              "      background-color: #3B4455;\n",
              "      fill: #D2E3FC;\n",
              "    }\n",
              "\n",
              "    [theme=dark] .colab-df-convert:hover {\n",
              "      background-color: #434B5C;\n",
              "      box-shadow: 0px 1px 3px 1px rgba(0, 0, 0, 0.15);\n",
              "      filter: drop-shadow(0px 1px 2px rgba(0, 0, 0, 0.3));\n",
              "      fill: #FFFFFF;\n",
              "    }\n",
              "  </style>\n",
              "\n",
              "      <script>\n",
              "        const buttonEl =\n",
              "          document.querySelector('#df-33611380-2aad-456f-ab02-eb93398e66f6 button.colab-df-convert');\n",
              "        buttonEl.style.display =\n",
              "          google.colab.kernel.accessAllowed ? 'block' : 'none';\n",
              "\n",
              "        async function convertToInteractive(key) {\n",
              "          const element = document.querySelector('#df-33611380-2aad-456f-ab02-eb93398e66f6');\n",
              "          const dataTable =\n",
              "            await google.colab.kernel.invokeFunction('convertToInteractive',\n",
              "                                                     [key], {});\n",
              "          if (!dataTable) return;\n",
              "\n",
              "          const docLinkHtml = 'Like what you see? Visit the ' +\n",
              "            '<a target=\"_blank\" href=https://colab.research.google.com/notebooks/data_table.ipynb>data table notebook</a>'\n",
              "            + ' to learn more about interactive tables.';\n",
              "          element.innerHTML = '';\n",
              "          dataTable['output_type'] = 'display_data';\n",
              "          await google.colab.output.renderOutput(dataTable, element);\n",
              "          const docLink = document.createElement('div');\n",
              "          docLink.innerHTML = docLinkHtml;\n",
              "          element.appendChild(docLink);\n",
              "        }\n",
              "      </script>\n",
              "    </div>\n",
              "  </div>\n",
              "  "
            ]
          },
          "metadata": {},
          "execution_count": 25
        }
      ]
    },
    {
      "cell_type": "markdown",
      "source": [
        "2. **(n-1) OHE**"
      ],
      "metadata": {
        "id": "VOH9ZJzPRU6x"
      }
    },
    {
      "cell_type": "code",
      "source": [
        "pd.get_dummies(data,columns=['fuel'],drop_first=True).head(3)"
      ],
      "metadata": {
        "colab": {
          "base_uri": "https://localhost:8080/",
          "height": 312
        },
        "id": "6XJcAYQ6RMrW",
        "outputId": "061ae36c-3bae-40ca-d2ea-5a9ad1d1d97e"
      },
      "execution_count": 26,
      "outputs": [
        {
          "output_type": "execute_result",
          "data": {
            "text/plain": [
              "                       name  year  selling_price  km_driven seller_type  \\\n",
              "0             Maruti 800 AC  2007          60000      70000  Individual   \n",
              "1  Maruti Wagon R LXI Minor  2007         135000      50000  Individual   \n",
              "2      Hyundai Verna 1.6 SX  2012         600000     100000  Individual   \n",
              "\n",
              "  transmission        owner  fuel_Diesel  fuel_Electric  fuel_LPG  fuel_Petrol  \n",
              "0       Manual  First Owner            0              0         0            1  \n",
              "1       Manual  First Owner            0              0         0            1  \n",
              "2       Manual  First Owner            1              0         0            0  "
            ],
            "text/html": [
              "\n",
              "  <div id=\"df-19f6272e-f0d2-4648-aebf-d4e252566d9e\">\n",
              "    <div class=\"colab-df-container\">\n",
              "      <div>\n",
              "<style scoped>\n",
              "    .dataframe tbody tr th:only-of-type {\n",
              "        vertical-align: middle;\n",
              "    }\n",
              "\n",
              "    .dataframe tbody tr th {\n",
              "        vertical-align: top;\n",
              "    }\n",
              "\n",
              "    .dataframe thead th {\n",
              "        text-align: right;\n",
              "    }\n",
              "</style>\n",
              "<table border=\"1\" class=\"dataframe\">\n",
              "  <thead>\n",
              "    <tr style=\"text-align: right;\">\n",
              "      <th></th>\n",
              "      <th>name</th>\n",
              "      <th>year</th>\n",
              "      <th>selling_price</th>\n",
              "      <th>km_driven</th>\n",
              "      <th>seller_type</th>\n",
              "      <th>transmission</th>\n",
              "      <th>owner</th>\n",
              "      <th>fuel_Diesel</th>\n",
              "      <th>fuel_Electric</th>\n",
              "      <th>fuel_LPG</th>\n",
              "      <th>fuel_Petrol</th>\n",
              "    </tr>\n",
              "  </thead>\n",
              "  <tbody>\n",
              "    <tr>\n",
              "      <th>0</th>\n",
              "      <td>Maruti 800 AC</td>\n",
              "      <td>2007</td>\n",
              "      <td>60000</td>\n",
              "      <td>70000</td>\n",
              "      <td>Individual</td>\n",
              "      <td>Manual</td>\n",
              "      <td>First Owner</td>\n",
              "      <td>0</td>\n",
              "      <td>0</td>\n",
              "      <td>0</td>\n",
              "      <td>1</td>\n",
              "    </tr>\n",
              "    <tr>\n",
              "      <th>1</th>\n",
              "      <td>Maruti Wagon R LXI Minor</td>\n",
              "      <td>2007</td>\n",
              "      <td>135000</td>\n",
              "      <td>50000</td>\n",
              "      <td>Individual</td>\n",
              "      <td>Manual</td>\n",
              "      <td>First Owner</td>\n",
              "      <td>0</td>\n",
              "      <td>0</td>\n",
              "      <td>0</td>\n",
              "      <td>1</td>\n",
              "    </tr>\n",
              "    <tr>\n",
              "      <th>2</th>\n",
              "      <td>Hyundai Verna 1.6 SX</td>\n",
              "      <td>2012</td>\n",
              "      <td>600000</td>\n",
              "      <td>100000</td>\n",
              "      <td>Individual</td>\n",
              "      <td>Manual</td>\n",
              "      <td>First Owner</td>\n",
              "      <td>1</td>\n",
              "      <td>0</td>\n",
              "      <td>0</td>\n",
              "      <td>0</td>\n",
              "    </tr>\n",
              "  </tbody>\n",
              "</table>\n",
              "</div>\n",
              "      <button class=\"colab-df-convert\" onclick=\"convertToInteractive('df-19f6272e-f0d2-4648-aebf-d4e252566d9e')\"\n",
              "              title=\"Convert this dataframe to an interactive table.\"\n",
              "              style=\"display:none;\">\n",
              "        \n",
              "  <svg xmlns=\"http://www.w3.org/2000/svg\" height=\"24px\"viewBox=\"0 0 24 24\"\n",
              "       width=\"24px\">\n",
              "    <path d=\"M0 0h24v24H0V0z\" fill=\"none\"/>\n",
              "    <path d=\"M18.56 5.44l.94 2.06.94-2.06 2.06-.94-2.06-.94-.94-2.06-.94 2.06-2.06.94zm-11 1L8.5 8.5l.94-2.06 2.06-.94-2.06-.94L8.5 2.5l-.94 2.06-2.06.94zm10 10l.94 2.06.94-2.06 2.06-.94-2.06-.94-.94-2.06-.94 2.06-2.06.94z\"/><path d=\"M17.41 7.96l-1.37-1.37c-.4-.4-.92-.59-1.43-.59-.52 0-1.04.2-1.43.59L10.3 9.45l-7.72 7.72c-.78.78-.78 2.05 0 2.83L4 21.41c.39.39.9.59 1.41.59.51 0 1.02-.2 1.41-.59l7.78-7.78 2.81-2.81c.8-.78.8-2.07 0-2.86zM5.41 20L4 18.59l7.72-7.72 1.47 1.35L5.41 20z\"/>\n",
              "  </svg>\n",
              "      </button>\n",
              "      \n",
              "  <style>\n",
              "    .colab-df-container {\n",
              "      display:flex;\n",
              "      flex-wrap:wrap;\n",
              "      gap: 12px;\n",
              "    }\n",
              "\n",
              "    .colab-df-convert {\n",
              "      background-color: #E8F0FE;\n",
              "      border: none;\n",
              "      border-radius: 50%;\n",
              "      cursor: pointer;\n",
              "      display: none;\n",
              "      fill: #1967D2;\n",
              "      height: 32px;\n",
              "      padding: 0 0 0 0;\n",
              "      width: 32px;\n",
              "    }\n",
              "\n",
              "    .colab-df-convert:hover {\n",
              "      background-color: #E2EBFA;\n",
              "      box-shadow: 0px 1px 2px rgba(60, 64, 67, 0.3), 0px 1px 3px 1px rgba(60, 64, 67, 0.15);\n",
              "      fill: #174EA6;\n",
              "    }\n",
              "\n",
              "    [theme=dark] .colab-df-convert {\n",
              "      background-color: #3B4455;\n",
              "      fill: #D2E3FC;\n",
              "    }\n",
              "\n",
              "    [theme=dark] .colab-df-convert:hover {\n",
              "      background-color: #434B5C;\n",
              "      box-shadow: 0px 1px 3px 1px rgba(0, 0, 0, 0.15);\n",
              "      filter: drop-shadow(0px 1px 2px rgba(0, 0, 0, 0.3));\n",
              "      fill: #FFFFFF;\n",
              "    }\n",
              "  </style>\n",
              "\n",
              "      <script>\n",
              "        const buttonEl =\n",
              "          document.querySelector('#df-19f6272e-f0d2-4648-aebf-d4e252566d9e button.colab-df-convert');\n",
              "        buttonEl.style.display =\n",
              "          google.colab.kernel.accessAllowed ? 'block' : 'none';\n",
              "\n",
              "        async function convertToInteractive(key) {\n",
              "          const element = document.querySelector('#df-19f6272e-f0d2-4648-aebf-d4e252566d9e');\n",
              "          const dataTable =\n",
              "            await google.colab.kernel.invokeFunction('convertToInteractive',\n",
              "                                                     [key], {});\n",
              "          if (!dataTable) return;\n",
              "\n",
              "          const docLinkHtml = 'Like what you see? Visit the ' +\n",
              "            '<a target=\"_blank\" href=https://colab.research.google.com/notebooks/data_table.ipynb>data table notebook</a>'\n",
              "            + ' to learn more about interactive tables.';\n",
              "          element.innerHTML = '';\n",
              "          dataTable['output_type'] = 'display_data';\n",
              "          await google.colab.output.renderOutput(dataTable, element);\n",
              "          const docLink = document.createElement('div');\n",
              "          docLink.innerHTML = docLinkHtml;\n",
              "          element.appendChild(docLink);\n",
              "        }\n",
              "      </script>\n",
              "    </div>\n",
              "  </div>\n",
              "  "
            ]
          },
          "metadata": {},
          "execution_count": 26
        }
      ]
    },
    {
      "cell_type": "markdown",
      "source": [
        "# **OHE using sklearn**"
      ],
      "metadata": {
        "id": "Zfqk5_nQRnv5"
      }
    },
    {
      "cell_type": "code",
      "source": [
        "from sklearn.model_selection import train_test_split\n",
        "col=[\"name\",\"km_driven\",'fuel',\"owner\"]\n",
        "X_train,X_test,Y_train,Y_test = train_test_split(data.loc[:,col],data.iloc[:,-1],test_size=0.2,random_state=2)"
      ],
      "metadata": {
        "id": "JL7cAE2ZRjmO"
      },
      "execution_count": 36,
      "outputs": []
    },
    {
      "cell_type": "code",
      "source": [
        "X_train.head()"
      ],
      "metadata": {
        "colab": {
          "base_uri": "https://localhost:8080/",
          "height": 206
        },
        "id": "fUDq2PPVSC50",
        "outputId": "249b0887-479f-4af8-fbe6-3ba2fadbde5a"
      },
      "execution_count": 37,
      "outputs": [
        {
          "output_type": "execute_result",
          "data": {
            "text/plain": [
              "                                         name  km_driven    fuel        owner\n",
              "3581         Volkswagen Ameo 1.5 TDI Highline      70000  Diesel  First Owner\n",
              "4191  Mahindra Scorpio VLX 2WD AIRBAG SE BSIV      72000  Diesel  First Owner\n",
              "2450                  Maruti Ciaz 1.4 AT Zeta      40000  Petrol  First Owner\n",
              "984         Fiat Grande Punto EVO 1.3 Dynamic      70000  Diesel  First Owner\n",
              "3546                     Maruti Swift 1.2 DLX      35000  Petrol  First Owner"
            ],
            "text/html": [
              "\n",
              "  <div id=\"df-a7771011-0ff4-488c-9b07-bfa2b2be3155\">\n",
              "    <div class=\"colab-df-container\">\n",
              "      <div>\n",
              "<style scoped>\n",
              "    .dataframe tbody tr th:only-of-type {\n",
              "        vertical-align: middle;\n",
              "    }\n",
              "\n",
              "    .dataframe tbody tr th {\n",
              "        vertical-align: top;\n",
              "    }\n",
              "\n",
              "    .dataframe thead th {\n",
              "        text-align: right;\n",
              "    }\n",
              "</style>\n",
              "<table border=\"1\" class=\"dataframe\">\n",
              "  <thead>\n",
              "    <tr style=\"text-align: right;\">\n",
              "      <th></th>\n",
              "      <th>name</th>\n",
              "      <th>km_driven</th>\n",
              "      <th>fuel</th>\n",
              "      <th>owner</th>\n",
              "    </tr>\n",
              "  </thead>\n",
              "  <tbody>\n",
              "    <tr>\n",
              "      <th>3581</th>\n",
              "      <td>Volkswagen Ameo 1.5 TDI Highline</td>\n",
              "      <td>70000</td>\n",
              "      <td>Diesel</td>\n",
              "      <td>First Owner</td>\n",
              "    </tr>\n",
              "    <tr>\n",
              "      <th>4191</th>\n",
              "      <td>Mahindra Scorpio VLX 2WD AIRBAG SE BSIV</td>\n",
              "      <td>72000</td>\n",
              "      <td>Diesel</td>\n",
              "      <td>First Owner</td>\n",
              "    </tr>\n",
              "    <tr>\n",
              "      <th>2450</th>\n",
              "      <td>Maruti Ciaz 1.4 AT Zeta</td>\n",
              "      <td>40000</td>\n",
              "      <td>Petrol</td>\n",
              "      <td>First Owner</td>\n",
              "    </tr>\n",
              "    <tr>\n",
              "      <th>984</th>\n",
              "      <td>Fiat Grande Punto EVO 1.3 Dynamic</td>\n",
              "      <td>70000</td>\n",
              "      <td>Diesel</td>\n",
              "      <td>First Owner</td>\n",
              "    </tr>\n",
              "    <tr>\n",
              "      <th>3546</th>\n",
              "      <td>Maruti Swift 1.2 DLX</td>\n",
              "      <td>35000</td>\n",
              "      <td>Petrol</td>\n",
              "      <td>First Owner</td>\n",
              "    </tr>\n",
              "  </tbody>\n",
              "</table>\n",
              "</div>\n",
              "      <button class=\"colab-df-convert\" onclick=\"convertToInteractive('df-a7771011-0ff4-488c-9b07-bfa2b2be3155')\"\n",
              "              title=\"Convert this dataframe to an interactive table.\"\n",
              "              style=\"display:none;\">\n",
              "        \n",
              "  <svg xmlns=\"http://www.w3.org/2000/svg\" height=\"24px\"viewBox=\"0 0 24 24\"\n",
              "       width=\"24px\">\n",
              "    <path d=\"M0 0h24v24H0V0z\" fill=\"none\"/>\n",
              "    <path d=\"M18.56 5.44l.94 2.06.94-2.06 2.06-.94-2.06-.94-.94-2.06-.94 2.06-2.06.94zm-11 1L8.5 8.5l.94-2.06 2.06-.94-2.06-.94L8.5 2.5l-.94 2.06-2.06.94zm10 10l.94 2.06.94-2.06 2.06-.94-2.06-.94-.94-2.06-.94 2.06-2.06.94z\"/><path d=\"M17.41 7.96l-1.37-1.37c-.4-.4-.92-.59-1.43-.59-.52 0-1.04.2-1.43.59L10.3 9.45l-7.72 7.72c-.78.78-.78 2.05 0 2.83L4 21.41c.39.39.9.59 1.41.59.51 0 1.02-.2 1.41-.59l7.78-7.78 2.81-2.81c.8-.78.8-2.07 0-2.86zM5.41 20L4 18.59l7.72-7.72 1.47 1.35L5.41 20z\"/>\n",
              "  </svg>\n",
              "      </button>\n",
              "      \n",
              "  <style>\n",
              "    .colab-df-container {\n",
              "      display:flex;\n",
              "      flex-wrap:wrap;\n",
              "      gap: 12px;\n",
              "    }\n",
              "\n",
              "    .colab-df-convert {\n",
              "      background-color: #E8F0FE;\n",
              "      border: none;\n",
              "      border-radius: 50%;\n",
              "      cursor: pointer;\n",
              "      display: none;\n",
              "      fill: #1967D2;\n",
              "      height: 32px;\n",
              "      padding: 0 0 0 0;\n",
              "      width: 32px;\n",
              "    }\n",
              "\n",
              "    .colab-df-convert:hover {\n",
              "      background-color: #E2EBFA;\n",
              "      box-shadow: 0px 1px 2px rgba(60, 64, 67, 0.3), 0px 1px 3px 1px rgba(60, 64, 67, 0.15);\n",
              "      fill: #174EA6;\n",
              "    }\n",
              "\n",
              "    [theme=dark] .colab-df-convert {\n",
              "      background-color: #3B4455;\n",
              "      fill: #D2E3FC;\n",
              "    }\n",
              "\n",
              "    [theme=dark] .colab-df-convert:hover {\n",
              "      background-color: #434B5C;\n",
              "      box-shadow: 0px 1px 3px 1px rgba(0, 0, 0, 0.15);\n",
              "      filter: drop-shadow(0px 1px 2px rgba(0, 0, 0, 0.3));\n",
              "      fill: #FFFFFF;\n",
              "    }\n",
              "  </style>\n",
              "\n",
              "      <script>\n",
              "        const buttonEl =\n",
              "          document.querySelector('#df-a7771011-0ff4-488c-9b07-bfa2b2be3155 button.colab-df-convert');\n",
              "        buttonEl.style.display =\n",
              "          google.colab.kernel.accessAllowed ? 'block' : 'none';\n",
              "\n",
              "        async function convertToInteractive(key) {\n",
              "          const element = document.querySelector('#df-a7771011-0ff4-488c-9b07-bfa2b2be3155');\n",
              "          const dataTable =\n",
              "            await google.colab.kernel.invokeFunction('convertToInteractive',\n",
              "                                                     [key], {});\n",
              "          if (!dataTable) return;\n",
              "\n",
              "          const docLinkHtml = 'Like what you see? Visit the ' +\n",
              "            '<a target=\"_blank\" href=https://colab.research.google.com/notebooks/data_table.ipynb>data table notebook</a>'\n",
              "            + ' to learn more about interactive tables.';\n",
              "          element.innerHTML = '';\n",
              "          dataTable['output_type'] = 'display_data';\n",
              "          await google.colab.output.renderOutput(dataTable, element);\n",
              "          const docLink = document.createElement('div');\n",
              "          docLink.innerHTML = docLinkHtml;\n",
              "          element.appendChild(docLink);\n",
              "        }\n",
              "      </script>\n",
              "    </div>\n",
              "  </div>\n",
              "  "
            ]
          },
          "metadata": {},
          "execution_count": 37
        }
      ]
    },
    {
      "cell_type": "code",
      "source": [
        "from sklearn.preprocessing import OneHotEncoder"
      ],
      "metadata": {
        "id": "qzyoxgmXTgi1"
      },
      "execution_count": 40,
      "outputs": []
    },
    {
      "cell_type": "code",
      "source": [
        "ohe = OneHotEncoder(drop='first',sparse=False,dtype=np.int32)"
      ],
      "metadata": {
        "id": "k5XcyYp6TzCa"
      },
      "execution_count": 41,
      "outputs": []
    },
    {
      "cell_type": "code",
      "source": [
        "X_train_new = ohe.fit_transform(X_train[['fuel','owner']])"
      ],
      "metadata": {
        "id": "YQEaXWdOTzrr"
      },
      "execution_count": 42,
      "outputs": []
    },
    {
      "cell_type": "code",
      "source": [
        "X_test_new = ohe.transform(X_test[['fuel','owner']])"
      ],
      "metadata": {
        "id": "3oZzCoUVT1uu"
      },
      "execution_count": 43,
      "outputs": []
    },
    {
      "cell_type": "code",
      "source": [
        "X_train_new"
      ],
      "metadata": {
        "colab": {
          "base_uri": "https://localhost:8080/"
        },
        "id": "q_GOgV4JUsxV",
        "outputId": "cc012646-9a4b-4131-eb93-09d5de1fa462"
      },
      "execution_count": 52,
      "outputs": [
        {
          "output_type": "execute_result",
          "data": {
            "text/plain": [
              "array([[1, 0, 0, ..., 0, 0, 0],\n",
              "       [1, 0, 0, ..., 0, 0, 0],\n",
              "       [0, 0, 0, ..., 0, 0, 0],\n",
              "       ...,\n",
              "       [1, 0, 0, ..., 0, 0, 0],\n",
              "       [1, 0, 0, ..., 0, 0, 0],\n",
              "       [0, 0, 0, ..., 1, 0, 0]], dtype=int32)"
            ]
          },
          "metadata": {},
          "execution_count": 52
        }
      ]
    },
    {
      "cell_type": "code",
      "source": [
        "X_train[['name',\"km_driven\"]]"
      ],
      "metadata": {
        "colab": {
          "base_uri": "https://localhost:8080/",
          "height": 424
        },
        "id": "ynHdzMTCU4s8",
        "outputId": "5785caa3-ca83-4fc0-9f16-53d1e37482dd"
      },
      "execution_count": 55,
      "outputs": [
        {
          "output_type": "execute_result",
          "data": {
            "text/plain": [
              "                                         name  km_driven\n",
              "3581         Volkswagen Ameo 1.5 TDI Highline      70000\n",
              "4191  Mahindra Scorpio VLX 2WD AIRBAG SE BSIV      72000\n",
              "2450                  Maruti Ciaz 1.4 AT Zeta      40000\n",
              "984         Fiat Grande Punto EVO 1.3 Dynamic      70000\n",
              "3546                     Maruti Swift 1.2 DLX      35000\n",
              "...                                       ...        ...\n",
              "3335         Hyundai Grand i10 1.2 Kappa Asta      32000\n",
              "1099                     Honda City i DTEC VX     110000\n",
              "2514      Hyundai i20 Magna Optional 1.4 CRDi      50000\n",
              "3606                         Mahindra Xylo D2      70000\n",
              "2575                      Datsun RediGO 1.0 S      15000\n",
              "\n",
              "[3472 rows x 2 columns]"
            ],
            "text/html": [
              "\n",
              "  <div id=\"df-c952cec1-3859-4196-950d-ef7ee7a78d68\">\n",
              "    <div class=\"colab-df-container\">\n",
              "      <div>\n",
              "<style scoped>\n",
              "    .dataframe tbody tr th:only-of-type {\n",
              "        vertical-align: middle;\n",
              "    }\n",
              "\n",
              "    .dataframe tbody tr th {\n",
              "        vertical-align: top;\n",
              "    }\n",
              "\n",
              "    .dataframe thead th {\n",
              "        text-align: right;\n",
              "    }\n",
              "</style>\n",
              "<table border=\"1\" class=\"dataframe\">\n",
              "  <thead>\n",
              "    <tr style=\"text-align: right;\">\n",
              "      <th></th>\n",
              "      <th>name</th>\n",
              "      <th>km_driven</th>\n",
              "    </tr>\n",
              "  </thead>\n",
              "  <tbody>\n",
              "    <tr>\n",
              "      <th>3581</th>\n",
              "      <td>Volkswagen Ameo 1.5 TDI Highline</td>\n",
              "      <td>70000</td>\n",
              "    </tr>\n",
              "    <tr>\n",
              "      <th>4191</th>\n",
              "      <td>Mahindra Scorpio VLX 2WD AIRBAG SE BSIV</td>\n",
              "      <td>72000</td>\n",
              "    </tr>\n",
              "    <tr>\n",
              "      <th>2450</th>\n",
              "      <td>Maruti Ciaz 1.4 AT Zeta</td>\n",
              "      <td>40000</td>\n",
              "    </tr>\n",
              "    <tr>\n",
              "      <th>984</th>\n",
              "      <td>Fiat Grande Punto EVO 1.3 Dynamic</td>\n",
              "      <td>70000</td>\n",
              "    </tr>\n",
              "    <tr>\n",
              "      <th>3546</th>\n",
              "      <td>Maruti Swift 1.2 DLX</td>\n",
              "      <td>35000</td>\n",
              "    </tr>\n",
              "    <tr>\n",
              "      <th>...</th>\n",
              "      <td>...</td>\n",
              "      <td>...</td>\n",
              "    </tr>\n",
              "    <tr>\n",
              "      <th>3335</th>\n",
              "      <td>Hyundai Grand i10 1.2 Kappa Asta</td>\n",
              "      <td>32000</td>\n",
              "    </tr>\n",
              "    <tr>\n",
              "      <th>1099</th>\n",
              "      <td>Honda City i DTEC VX</td>\n",
              "      <td>110000</td>\n",
              "    </tr>\n",
              "    <tr>\n",
              "      <th>2514</th>\n",
              "      <td>Hyundai i20 Magna Optional 1.4 CRDi</td>\n",
              "      <td>50000</td>\n",
              "    </tr>\n",
              "    <tr>\n",
              "      <th>3606</th>\n",
              "      <td>Mahindra Xylo D2</td>\n",
              "      <td>70000</td>\n",
              "    </tr>\n",
              "    <tr>\n",
              "      <th>2575</th>\n",
              "      <td>Datsun RediGO 1.0 S</td>\n",
              "      <td>15000</td>\n",
              "    </tr>\n",
              "  </tbody>\n",
              "</table>\n",
              "<p>3472 rows × 2 columns</p>\n",
              "</div>\n",
              "      <button class=\"colab-df-convert\" onclick=\"convertToInteractive('df-c952cec1-3859-4196-950d-ef7ee7a78d68')\"\n",
              "              title=\"Convert this dataframe to an interactive table.\"\n",
              "              style=\"display:none;\">\n",
              "        \n",
              "  <svg xmlns=\"http://www.w3.org/2000/svg\" height=\"24px\"viewBox=\"0 0 24 24\"\n",
              "       width=\"24px\">\n",
              "    <path d=\"M0 0h24v24H0V0z\" fill=\"none\"/>\n",
              "    <path d=\"M18.56 5.44l.94 2.06.94-2.06 2.06-.94-2.06-.94-.94-2.06-.94 2.06-2.06.94zm-11 1L8.5 8.5l.94-2.06 2.06-.94-2.06-.94L8.5 2.5l-.94 2.06-2.06.94zm10 10l.94 2.06.94-2.06 2.06-.94-2.06-.94-.94-2.06-.94 2.06-2.06.94z\"/><path d=\"M17.41 7.96l-1.37-1.37c-.4-.4-.92-.59-1.43-.59-.52 0-1.04.2-1.43.59L10.3 9.45l-7.72 7.72c-.78.78-.78 2.05 0 2.83L4 21.41c.39.39.9.59 1.41.59.51 0 1.02-.2 1.41-.59l7.78-7.78 2.81-2.81c.8-.78.8-2.07 0-2.86zM5.41 20L4 18.59l7.72-7.72 1.47 1.35L5.41 20z\"/>\n",
              "  </svg>\n",
              "      </button>\n",
              "      \n",
              "  <style>\n",
              "    .colab-df-container {\n",
              "      display:flex;\n",
              "      flex-wrap:wrap;\n",
              "      gap: 12px;\n",
              "    }\n",
              "\n",
              "    .colab-df-convert {\n",
              "      background-color: #E8F0FE;\n",
              "      border: none;\n",
              "      border-radius: 50%;\n",
              "      cursor: pointer;\n",
              "      display: none;\n",
              "      fill: #1967D2;\n",
              "      height: 32px;\n",
              "      padding: 0 0 0 0;\n",
              "      width: 32px;\n",
              "    }\n",
              "\n",
              "    .colab-df-convert:hover {\n",
              "      background-color: #E2EBFA;\n",
              "      box-shadow: 0px 1px 2px rgba(60, 64, 67, 0.3), 0px 1px 3px 1px rgba(60, 64, 67, 0.15);\n",
              "      fill: #174EA6;\n",
              "    }\n",
              "\n",
              "    [theme=dark] .colab-df-convert {\n",
              "      background-color: #3B4455;\n",
              "      fill: #D2E3FC;\n",
              "    }\n",
              "\n",
              "    [theme=dark] .colab-df-convert:hover {\n",
              "      background-color: #434B5C;\n",
              "      box-shadow: 0px 1px 3px 1px rgba(0, 0, 0, 0.15);\n",
              "      filter: drop-shadow(0px 1px 2px rgba(0, 0, 0, 0.3));\n",
              "      fill: #FFFFFF;\n",
              "    }\n",
              "  </style>\n",
              "\n",
              "      <script>\n",
              "        const buttonEl =\n",
              "          document.querySelector('#df-c952cec1-3859-4196-950d-ef7ee7a78d68 button.colab-df-convert');\n",
              "        buttonEl.style.display =\n",
              "          google.colab.kernel.accessAllowed ? 'block' : 'none';\n",
              "\n",
              "        async function convertToInteractive(key) {\n",
              "          const element = document.querySelector('#df-c952cec1-3859-4196-950d-ef7ee7a78d68');\n",
              "          const dataTable =\n",
              "            await google.colab.kernel.invokeFunction('convertToInteractive',\n",
              "                                                     [key], {});\n",
              "          if (!dataTable) return;\n",
              "\n",
              "          const docLinkHtml = 'Like what you see? Visit the ' +\n",
              "            '<a target=\"_blank\" href=https://colab.research.google.com/notebooks/data_table.ipynb>data table notebook</a>'\n",
              "            + ' to learn more about interactive tables.';\n",
              "          element.innerHTML = '';\n",
              "          dataTable['output_type'] = 'display_data';\n",
              "          await google.colab.output.renderOutput(dataTable, element);\n",
              "          const docLink = document.createElement('div');\n",
              "          docLink.innerHTML = docLinkHtml;\n",
              "          element.appendChild(docLink);\n",
              "        }\n",
              "      </script>\n",
              "    </div>\n",
              "  </div>\n",
              "  "
            ]
          },
          "metadata": {},
          "execution_count": 55
        }
      ]
    },
    {
      "cell_type": "code",
      "source": [
        "np.hstack((X_train[['name','km_driven']].values,X_train_new))"
      ],
      "metadata": {
        "colab": {
          "base_uri": "https://localhost:8080/"
        },
        "id": "t1TfA7KNT409",
        "outputId": "0d5641ab-5c7d-4bfa-aafe-6fa5e23f7d34"
      },
      "execution_count": 45,
      "outputs": [
        {
          "output_type": "execute_result",
          "data": {
            "text/plain": [
              "array([['Volkswagen Ameo 1.5 TDI Highline', 70000, 1, ..., 0, 0, 0],\n",
              "       ['Mahindra Scorpio VLX 2WD AIRBAG SE BSIV', 72000, 1, ..., 0, 0,\n",
              "        0],\n",
              "       ['Maruti Ciaz 1.4 AT Zeta', 40000, 0, ..., 0, 0, 0],\n",
              "       ...,\n",
              "       ['Hyundai i20 Magna Optional 1.4 CRDi', 50000, 1, ..., 0, 0, 0],\n",
              "       ['Mahindra Xylo D2', 70000, 1, ..., 0, 0, 0],\n",
              "       ['Datsun RediGO 1.0 S', 15000, 0, ..., 1, 0, 0]], dtype=object)"
            ]
          },
          "metadata": {},
          "execution_count": 45
        }
      ]
    },
    {
      "cell_type": "markdown",
      "source": [
        "## 4. **OHE with Top Categories**"
      ],
      "metadata": {
        "id": "pF5he7znUO0r"
      }
    },
    {
      "cell_type": "code",
      "source": [
        "counts = data['name'].value_counts()"
      ],
      "metadata": {
        "id": "cQoD9kaYUORn"
      },
      "execution_count": 47,
      "outputs": []
    },
    {
      "cell_type": "code",
      "source": [
        "data['name'].nunique()\n",
        "threshold = 100"
      ],
      "metadata": {
        "id": "DM-WaEdTUAZ2"
      },
      "execution_count": 48,
      "outputs": []
    },
    {
      "cell_type": "code",
      "source": [
        "repl = counts[counts <= threshold].index"
      ],
      "metadata": {
        "id": "60vmhS-yUelv"
      },
      "execution_count": 49,
      "outputs": []
    },
    {
      "cell_type": "code",
      "source": [
        "pd.get_dummies(data['name'].replace(repl, 'uncommon')).sample(5)"
      ],
      "metadata": {
        "colab": {
          "base_uri": "https://localhost:8080/",
          "height": 206
        },
        "id": "FiCDPEKiUggw",
        "outputId": "de31b9be-80aa-44ae-8d72-7748d0f85c58"
      },
      "execution_count": 50,
      "outputs": [
        {
          "output_type": "execute_result",
          "data": {
            "text/plain": [
              "      uncommon\n",
              "148          1\n",
              "849          1\n",
              "1970         1\n",
              "2525         1\n",
              "2411         1"
            ],
            "text/html": [
              "\n",
              "  <div id=\"df-ea7dce4a-0c3f-4518-926f-cfa8fb175f26\">\n",
              "    <div class=\"colab-df-container\">\n",
              "      <div>\n",
              "<style scoped>\n",
              "    .dataframe tbody tr th:only-of-type {\n",
              "        vertical-align: middle;\n",
              "    }\n",
              "\n",
              "    .dataframe tbody tr th {\n",
              "        vertical-align: top;\n",
              "    }\n",
              "\n",
              "    .dataframe thead th {\n",
              "        text-align: right;\n",
              "    }\n",
              "</style>\n",
              "<table border=\"1\" class=\"dataframe\">\n",
              "  <thead>\n",
              "    <tr style=\"text-align: right;\">\n",
              "      <th></th>\n",
              "      <th>uncommon</th>\n",
              "    </tr>\n",
              "  </thead>\n",
              "  <tbody>\n",
              "    <tr>\n",
              "      <th>148</th>\n",
              "      <td>1</td>\n",
              "    </tr>\n",
              "    <tr>\n",
              "      <th>849</th>\n",
              "      <td>1</td>\n",
              "    </tr>\n",
              "    <tr>\n",
              "      <th>1970</th>\n",
              "      <td>1</td>\n",
              "    </tr>\n",
              "    <tr>\n",
              "      <th>2525</th>\n",
              "      <td>1</td>\n",
              "    </tr>\n",
              "    <tr>\n",
              "      <th>2411</th>\n",
              "      <td>1</td>\n",
              "    </tr>\n",
              "  </tbody>\n",
              "</table>\n",
              "</div>\n",
              "      <button class=\"colab-df-convert\" onclick=\"convertToInteractive('df-ea7dce4a-0c3f-4518-926f-cfa8fb175f26')\"\n",
              "              title=\"Convert this dataframe to an interactive table.\"\n",
              "              style=\"display:none;\">\n",
              "        \n",
              "  <svg xmlns=\"http://www.w3.org/2000/svg\" height=\"24px\"viewBox=\"0 0 24 24\"\n",
              "       width=\"24px\">\n",
              "    <path d=\"M0 0h24v24H0V0z\" fill=\"none\"/>\n",
              "    <path d=\"M18.56 5.44l.94 2.06.94-2.06 2.06-.94-2.06-.94-.94-2.06-.94 2.06-2.06.94zm-11 1L8.5 8.5l.94-2.06 2.06-.94-2.06-.94L8.5 2.5l-.94 2.06-2.06.94zm10 10l.94 2.06.94-2.06 2.06-.94-2.06-.94-.94-2.06-.94 2.06-2.06.94z\"/><path d=\"M17.41 7.96l-1.37-1.37c-.4-.4-.92-.59-1.43-.59-.52 0-1.04.2-1.43.59L10.3 9.45l-7.72 7.72c-.78.78-.78 2.05 0 2.83L4 21.41c.39.39.9.59 1.41.59.51 0 1.02-.2 1.41-.59l7.78-7.78 2.81-2.81c.8-.78.8-2.07 0-2.86zM5.41 20L4 18.59l7.72-7.72 1.47 1.35L5.41 20z\"/>\n",
              "  </svg>\n",
              "      </button>\n",
              "      \n",
              "  <style>\n",
              "    .colab-df-container {\n",
              "      display:flex;\n",
              "      flex-wrap:wrap;\n",
              "      gap: 12px;\n",
              "    }\n",
              "\n",
              "    .colab-df-convert {\n",
              "      background-color: #E8F0FE;\n",
              "      border: none;\n",
              "      border-radius: 50%;\n",
              "      cursor: pointer;\n",
              "      display: none;\n",
              "      fill: #1967D2;\n",
              "      height: 32px;\n",
              "      padding: 0 0 0 0;\n",
              "      width: 32px;\n",
              "    }\n",
              "\n",
              "    .colab-df-convert:hover {\n",
              "      background-color: #E2EBFA;\n",
              "      box-shadow: 0px 1px 2px rgba(60, 64, 67, 0.3), 0px 1px 3px 1px rgba(60, 64, 67, 0.15);\n",
              "      fill: #174EA6;\n",
              "    }\n",
              "\n",
              "    [theme=dark] .colab-df-convert {\n",
              "      background-color: #3B4455;\n",
              "      fill: #D2E3FC;\n",
              "    }\n",
              "\n",
              "    [theme=dark] .colab-df-convert:hover {\n",
              "      background-color: #434B5C;\n",
              "      box-shadow: 0px 1px 3px 1px rgba(0, 0, 0, 0.15);\n",
              "      filter: drop-shadow(0px 1px 2px rgba(0, 0, 0, 0.3));\n",
              "      fill: #FFFFFF;\n",
              "    }\n",
              "  </style>\n",
              "\n",
              "      <script>\n",
              "        const buttonEl =\n",
              "          document.querySelector('#df-ea7dce4a-0c3f-4518-926f-cfa8fb175f26 button.colab-df-convert');\n",
              "        buttonEl.style.display =\n",
              "          google.colab.kernel.accessAllowed ? 'block' : 'none';\n",
              "\n",
              "        async function convertToInteractive(key) {\n",
              "          const element = document.querySelector('#df-ea7dce4a-0c3f-4518-926f-cfa8fb175f26');\n",
              "          const dataTable =\n",
              "            await google.colab.kernel.invokeFunction('convertToInteractive',\n",
              "                                                     [key], {});\n",
              "          if (!dataTable) return;\n",
              "\n",
              "          const docLinkHtml = 'Like what you see? Visit the ' +\n",
              "            '<a target=\"_blank\" href=https://colab.research.google.com/notebooks/data_table.ipynb>data table notebook</a>'\n",
              "            + ' to learn more about interactive tables.';\n",
              "          element.innerHTML = '';\n",
              "          dataTable['output_type'] = 'display_data';\n",
              "          await google.colab.output.renderOutput(dataTable, element);\n",
              "          const docLink = document.createElement('div');\n",
              "          docLink.innerHTML = docLinkHtml;\n",
              "          element.appendChild(docLink);\n",
              "        }\n",
              "      </script>\n",
              "    </div>\n",
              "  </div>\n",
              "  "
            ]
          },
          "metadata": {},
          "execution_count": 50
        }
      ]
    }
  ]
}